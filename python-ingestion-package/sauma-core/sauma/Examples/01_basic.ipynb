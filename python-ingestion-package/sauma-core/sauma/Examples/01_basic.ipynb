{
 "cells": [
  {
   "cell_type": "markdown",
   "metadata": {},
   "source": [
    "# Imports"
   ]
  },
  {
   "cell_type": "code",
   "execution_count": 1,
   "metadata": {},
   "outputs": [],
   "source": [
    "import re\n",
    "import json\n",
    "import pandas as pd\n",
    "from sauma.core import Connection\n",
    "from sqlalchemy import select, insert\n",
    "from datetime import datetime\n",
    "from datetime import timedelta"
   ]
  },
  {
   "cell_type": "markdown",
   "metadata": {},
   "source": [
    "## Setup the connection"
   ]
  },
  {
   "cell_type": "code",
   "execution_count": 2,
   "metadata": {},
   "outputs": [],
   "source": [
    "c = Connection()\n",
    "\n",
    "conn = c.connect()"
   ]
  },
  {
   "cell_type": "markdown",
   "metadata": {},
   "source": [
    "## Show all the schema"
   ]
  },
  {
   "cell_type": "code",
   "execution_count": 3,
   "metadata": {},
   "outputs": [
    {
     "name": "stdout",
     "output_type": "stream",
     "text": [
      "[   'information_schema',\n",
      "    'flexstone',\n",
      "    'flexstone_db',\n",
      "    'morning_star',\n",
      "    'morningstar',\n",
      "    'mysql',\n",
      "    'performance_schema',\n",
      "    'sys',\n",
      "    'wrds']\n"
     ]
    }
   ],
   "source": [
    "c.show_schemas()"
   ]
  },
  {
   "cell_type": "markdown",
   "metadata": {},
   "source": [
    "## Show all tables in `wrds` schema"
   ]
  },
  {
   "cell_type": "code",
   "execution_count": 4,
   "metadata": {},
   "outputs": [
    {
     "name": "stdout",
     "output_type": "stream",
     "text": [
      "[   'Test',\n",
      "    'alembic_version',\n",
      "    'mutual_funds',\n",
      "    'mutualfunds_contact_info',\n",
      "    'mutualfunds_crsp_cik_map',\n",
      "    'mutualfunds_crsp_portno_map',\n",
      "    'mutualfunds_daily_nav',\n",
      "    'mutualfunds_daily_nav_ret',\n",
      "    'mutualfunds_daily_returns',\n",
      "    'mutualfunds_dividends',\n",
      "    'mutualfunds_front_load',\n",
      "    'mutualfunds_front_load_det',\n",
      "    'mutualfunds_front_load_grp',\n",
      "    'mutualfunds_fund_fees',\n",
      "    'mutualfunds_fund_flows',\n",
      "    'mutualfunds_fund_hdr',\n",
      "    'mutualfunds_fund_hdr_hist',\n",
      "    'mutualfunds_fund_names',\n",
      "    'mutualfunds_fund_style',\n",
      "    'mutualfunds_fund_summary',\n",
      "    'mutualfunds_fund_summary2',\n",
      "    'mutualfunds_holdings',\n",
      "    'mutualfunds_mfdbname',\n",
      "    'mutualfunds_monthly_nav',\n",
      "    'mutualfunds_monthly_returns',\n",
      "    'mutualfunds_monthly_tna',\n",
      "    'mutualfunds_monthly_tna_ret_nav',\n",
      "    'mutualfunds_portnomap',\n",
      "    'mutualfunds_rear_load',\n",
      "    'mutualfunds_rear_load_det',\n",
      "    'mutualfunds_rear_load_grp']\n"
     ]
    }
   ],
   "source": [
    "c.show_tables('wrds')"
   ]
  },
  {
   "cell_type": "markdown",
   "metadata": {},
   "source": [
    "## Create Schema `morning_star` and drop table `Test`"
   ]
  },
  {
   "cell_type": "code",
   "execution_count": 5,
   "metadata": {},
   "outputs": [
    {
     "name": "stderr",
     "output_type": "stream",
     "text": [
      "/home/sahil/anaconda3/lib/python3.7/site-packages/pymysql/cursors.py:170: Warning: (1007, \"Can't create database 'morning_star'; database exists\")\n",
      "  result = self._query(query)\n"
     ]
    },
    {
     "data": {
      "text/plain": [
       "<sqlalchemy.engine.result.ResultProxy at 0x7f59ad1f3f90>"
      ]
     },
     "execution_count": 5,
     "metadata": {},
     "output_type": "execute_result"
    }
   ],
   "source": [
    "sql = \"CREATE DATABASE IF NOT EXISTS morning_star\"\n",
    "c.execute(sql)"
   ]
  },
  {
   "cell_type": "code",
   "execution_count": 6,
   "metadata": {},
   "outputs": [
    {
     "data": {
      "text/plain": [
       "<sqlalchemy.engine.result.ResultProxy at 0x7f59d0523c90>"
      ]
     },
     "execution_count": 6,
     "metadata": {},
     "output_type": "execute_result"
    }
   ],
   "source": [
    "sql = \"DROP TABLE IF EXISTS morning_star.Test\"\n",
    "conn.execute(sql)"
   ]
  },
  {
   "cell_type": "markdown",
   "metadata": {},
   "source": [
    "## Use JSON to create Table"
   ]
  },
  {
   "cell_type": "code",
   "execution_count": 7,
   "metadata": {},
   "outputs": [],
   "source": [
    "with open('test_table.json', 'r') as fl:\n",
    "    table_dict = json.load(fl)\n",
    "\n",
    "c.create_table(json.dumps(table_dict))"
   ]
  },
  {
   "cell_type": "markdown",
   "metadata": {},
   "source": [
    "## Insert test data in table"
   ]
  },
  {
   "cell_type": "code",
   "execution_count": 8,
   "metadata": {},
   "outputs": [],
   "source": [
    "now = datetime.now().date()\n",
    "\n",
    "now_time = datetime.now()\n",
    "\n",
    "df_dict = {\n",
    "    'id': [1,2,3,4,5,6],\n",
    "    'text_col': [\"text_1\", \"text_2\", \"text_3\", None, \"text_5\", \"text_6\"],\n",
    "    'int_col': [243, None, 789, None, 909, 1001],\n",
    "    'float_col_1': [123.0, None, 234.0, None, None, 101.45],\n",
    "    'float_col_2': [123.324, 234.789, None,None, None, -101.45],\n",
    "    'id_2': ['id_1', 'id_2', 'id_3', 'id_4', 'id_5', 'id_6'],\n",
    "    'date_col': [now + timedelta(days=-5), now + timedelta(days=-4), now + timedelta(days=-3),\\\n",
    "                 now + timedelta(days=-2), now + timedelta(days=-1), now],\n",
    "    'datetime_col': [now_time + timedelta(days=-5), now_time + timedelta(days=-4), now_time + timedelta(days=-3),\\\n",
    "                 now_time + timedelta(days=-2), now_time + timedelta(days=-1), now_time]\n",
    "}\n",
    "\n",
    "df = pd.DataFrame(df_dict)"
   ]
  },
  {
   "cell_type": "code",
   "execution_count": 9,
   "metadata": {},
   "outputs": [
    {
     "data": {
      "text/plain": [
       "<sqlalchemy.engine.result.ResultProxy at 0x7f59ae274190>"
      ]
     },
     "execution_count": 9,
     "metadata": {},
     "output_type": "execute_result"
    }
   ],
   "source": [
    "table = c.get_table('Test', 'morning_star') ## SQLAlchemy table\n",
    "\n",
    "values = df.iloc[0].to_dict()  ## will insert into db\n",
    "\n",
    "values['id'] = int(values['id'])\n",
    "values['int_col'] = int(values['int_col'])\n",
    "values['float_col_1'] = float(values['float_col_1'])\n",
    "values['float_col_2'] = float(values['float_col_2'])\n",
    "values['datetime_col'] = values['datetime_col'].to_pydatetime()\n",
    "\n",
    "stmt = insert(table, values=values)\n",
    "\n",
    "conn.execute('use morning_star')"
   ]
  },
  {
   "cell_type": "code",
   "execution_count": 10,
   "metadata": {},
   "outputs": [
    {
     "data": {
      "text/plain": [
       "<sqlalchemy.engine.result.ResultProxy at 0x7f59ad1f3150>"
      ]
     },
     "execution_count": 10,
     "metadata": {},
     "output_type": "execute_result"
    }
   ],
   "source": [
    "conn.execute(stmt) ## execute insert statement to insert into table"
   ]
  },
  {
   "cell_type": "markdown",
   "metadata": {},
   "source": [
    "## Update the table with pandas DataFrame"
   ]
  },
  {
   "cell_type": "code",
   "execution_count": 11,
   "metadata": {},
   "outputs": [],
   "source": [
    "c.update_table(table_name = 'Test', dataframe=df.iloc[1:], schema='morning_star', index=False, if_exists='append')"
   ]
  },
  {
   "cell_type": "markdown",
   "metadata": {},
   "source": [
    "## Test"
   ]
  },
  {
   "cell_type": "code",
   "execution_count": 12,
   "metadata": {},
   "outputs": [],
   "source": [
    "stmt = select([table]).where(table.columns.id == 1) ## using select"
   ]
  },
  {
   "cell_type": "code",
   "execution_count": 13,
   "metadata": {},
   "outputs": [],
   "source": [
    "results = conn.execute(stmt)"
   ]
  },
  {
   "cell_type": "code",
   "execution_count": 14,
   "metadata": {},
   "outputs": [
    {
     "name": "stdout",
     "output_type": "stream",
     "text": [
      "(1, 'text_1', 243, 123.0, 123.324, 'id_1', datetime.date(2020, 6, 6), datetime.datetime(2020, 6, 6, 15, 40, 12))\n"
     ]
    }
   ],
   "source": [
    "for result in results:\n",
    "    print(result)"
   ]
  },
  {
   "cell_type": "code",
   "execution_count": 15,
   "metadata": {},
   "outputs": [],
   "source": [
    "stmt = table.select(table.columns.id == 1)   ## using table.select"
   ]
  },
  {
   "cell_type": "code",
   "execution_count": 16,
   "metadata": {
    "scrolled": false
   },
   "outputs": [],
   "source": [
    "results = conn.execute(stmt)"
   ]
  },
  {
   "cell_type": "code",
   "execution_count": 17,
   "metadata": {},
   "outputs": [
    {
     "name": "stdout",
     "output_type": "stream",
     "text": [
      "(1, 'text_1', 243, 123.0, 123.324, 'id_1', datetime.date(2020, 6, 6), datetime.datetime(2020, 6, 6, 15, 40, 12))\n"
     ]
    }
   ],
   "source": [
    "for result in results:\n",
    "    print(result)"
   ]
  },
  {
   "cell_type": "code",
   "execution_count": 18,
   "metadata": {},
   "outputs": [],
   "source": [
    "df = c.get_dataframe('Test', 'morning_star')   ## get sql table as dataframe"
   ]
  },
  {
   "cell_type": "code",
   "execution_count": 19,
   "metadata": {},
   "outputs": [
    {
     "data": {
      "text/html": [
       "<div>\n",
       "<style scoped>\n",
       "    .dataframe tbody tr th:only-of-type {\n",
       "        vertical-align: middle;\n",
       "    }\n",
       "\n",
       "    .dataframe tbody tr th {\n",
       "        vertical-align: top;\n",
       "    }\n",
       "\n",
       "    .dataframe thead th {\n",
       "        text-align: right;\n",
       "    }\n",
       "</style>\n",
       "<table border=\"1\" class=\"dataframe\">\n",
       "  <thead>\n",
       "    <tr style=\"text-align: right;\">\n",
       "      <th></th>\n",
       "      <th>id</th>\n",
       "      <th>text_col</th>\n",
       "      <th>int_col</th>\n",
       "      <th>float_col_1</th>\n",
       "      <th>float_col_2</th>\n",
       "      <th>id_2</th>\n",
       "      <th>date_col</th>\n",
       "      <th>datetime_col</th>\n",
       "    </tr>\n",
       "  </thead>\n",
       "  <tbody>\n",
       "    <tr>\n",
       "      <td>0</td>\n",
       "      <td>1</td>\n",
       "      <td>text_1</td>\n",
       "      <td>243.0</td>\n",
       "      <td>123.00</td>\n",
       "      <td>123.324</td>\n",
       "      <td>id_1</td>\n",
       "      <td>2020-06-06</td>\n",
       "      <td>2020-06-06 15:40:12</td>\n",
       "    </tr>\n",
       "    <tr>\n",
       "      <td>1</td>\n",
       "      <td>2</td>\n",
       "      <td>text_2</td>\n",
       "      <td>NaN</td>\n",
       "      <td>NaN</td>\n",
       "      <td>234.789</td>\n",
       "      <td>id_2</td>\n",
       "      <td>2020-06-07</td>\n",
       "      <td>2020-06-07 15:40:12</td>\n",
       "    </tr>\n",
       "    <tr>\n",
       "      <td>2</td>\n",
       "      <td>3</td>\n",
       "      <td>text_3</td>\n",
       "      <td>789.0</td>\n",
       "      <td>234.00</td>\n",
       "      <td>NaN</td>\n",
       "      <td>id_3</td>\n",
       "      <td>2020-06-08</td>\n",
       "      <td>2020-06-08 15:40:12</td>\n",
       "    </tr>\n",
       "    <tr>\n",
       "      <td>3</td>\n",
       "      <td>4</td>\n",
       "      <td>None</td>\n",
       "      <td>NaN</td>\n",
       "      <td>NaN</td>\n",
       "      <td>NaN</td>\n",
       "      <td>id_4</td>\n",
       "      <td>2020-06-09</td>\n",
       "      <td>2020-06-09 15:40:12</td>\n",
       "    </tr>\n",
       "    <tr>\n",
       "      <td>4</td>\n",
       "      <td>5</td>\n",
       "      <td>text_5</td>\n",
       "      <td>909.0</td>\n",
       "      <td>NaN</td>\n",
       "      <td>NaN</td>\n",
       "      <td>id_5</td>\n",
       "      <td>2020-06-10</td>\n",
       "      <td>2020-06-10 15:40:12</td>\n",
       "    </tr>\n",
       "    <tr>\n",
       "      <td>5</td>\n",
       "      <td>6</td>\n",
       "      <td>text_6</td>\n",
       "      <td>1001.0</td>\n",
       "      <td>101.45</td>\n",
       "      <td>-101.450</td>\n",
       "      <td>id_6</td>\n",
       "      <td>2020-06-11</td>\n",
       "      <td>2020-06-11 15:40:12</td>\n",
       "    </tr>\n",
       "  </tbody>\n",
       "</table>\n",
       "</div>"
      ],
      "text/plain": [
       "   id text_col  int_col  float_col_1  float_col_2  id_2   date_col  \\\n",
       "0   1   text_1    243.0       123.00      123.324  id_1 2020-06-06   \n",
       "1   2   text_2      NaN          NaN      234.789  id_2 2020-06-07   \n",
       "2   3   text_3    789.0       234.00          NaN  id_3 2020-06-08   \n",
       "3   4     None      NaN          NaN          NaN  id_4 2020-06-09   \n",
       "4   5   text_5    909.0          NaN          NaN  id_5 2020-06-10   \n",
       "5   6   text_6   1001.0       101.45     -101.450  id_6 2020-06-11   \n",
       "\n",
       "         datetime_col  \n",
       "0 2020-06-06 15:40:12  \n",
       "1 2020-06-07 15:40:12  \n",
       "2 2020-06-08 15:40:12  \n",
       "3 2020-06-09 15:40:12  \n",
       "4 2020-06-10 15:40:12  \n",
       "5 2020-06-11 15:40:12  "
      ]
     },
     "execution_count": 19,
     "metadata": {},
     "output_type": "execute_result"
    }
   ],
   "source": [
    "df"
   ]
  },
  {
   "cell_type": "code",
   "execution_count": 20,
   "metadata": {},
   "outputs": [
    {
     "name": "stdout",
     "output_type": "stream",
     "text": [
      "<class 'pandas.core.frame.DataFrame'>\n",
      "RangeIndex: 6 entries, 0 to 5\n",
      "Data columns (total 8 columns):\n",
      "id              6 non-null int64\n",
      "text_col        5 non-null object\n",
      "int_col         4 non-null float64\n",
      "float_col_1     3 non-null float64\n",
      "float_col_2     3 non-null float64\n",
      "id_2            6 non-null object\n",
      "date_col        6 non-null datetime64[ns]\n",
      "datetime_col    6 non-null datetime64[ns]\n",
      "dtypes: datetime64[ns](2), float64(3), int64(1), object(2)\n",
      "memory usage: 512.0+ bytes\n"
     ]
    }
   ],
   "source": [
    "df.info()"
   ]
  },
  {
   "cell_type": "code",
   "execution_count": 21,
   "metadata": {},
   "outputs": [],
   "source": [
    "sql = \"SELECT id, text_col, int_col FROM morning_star.Test where id <= 3\"\n",
    "df = c.get_dataframe_from_sql_query(sql)                                ## get sql table as dataframe using query"
   ]
  },
  {
   "cell_type": "code",
   "execution_count": 22,
   "metadata": {},
   "outputs": [
    {
     "data": {
      "text/html": [
       "<div>\n",
       "<style scoped>\n",
       "    .dataframe tbody tr th:only-of-type {\n",
       "        vertical-align: middle;\n",
       "    }\n",
       "\n",
       "    .dataframe tbody tr th {\n",
       "        vertical-align: top;\n",
       "    }\n",
       "\n",
       "    .dataframe thead th {\n",
       "        text-align: right;\n",
       "    }\n",
       "</style>\n",
       "<table border=\"1\" class=\"dataframe\">\n",
       "  <thead>\n",
       "    <tr style=\"text-align: right;\">\n",
       "      <th></th>\n",
       "      <th>id</th>\n",
       "      <th>text_col</th>\n",
       "      <th>int_col</th>\n",
       "    </tr>\n",
       "  </thead>\n",
       "  <tbody>\n",
       "    <tr>\n",
       "      <td>0</td>\n",
       "      <td>1</td>\n",
       "      <td>text_1</td>\n",
       "      <td>243.0</td>\n",
       "    </tr>\n",
       "    <tr>\n",
       "      <td>1</td>\n",
       "      <td>2</td>\n",
       "      <td>text_2</td>\n",
       "      <td>NaN</td>\n",
       "    </tr>\n",
       "    <tr>\n",
       "      <td>2</td>\n",
       "      <td>3</td>\n",
       "      <td>text_3</td>\n",
       "      <td>789.0</td>\n",
       "    </tr>\n",
       "  </tbody>\n",
       "</table>\n",
       "</div>"
      ],
      "text/plain": [
       "   id text_col  int_col\n",
       "0   1   text_1    243.0\n",
       "1   2   text_2      NaN\n",
       "2   3   text_3    789.0"
      ]
     },
     "execution_count": 22,
     "metadata": {},
     "output_type": "execute_result"
    }
   ],
   "source": [
    "df"
   ]
  },
  {
   "cell_type": "markdown",
   "metadata": {},
   "source": [
    "## Insert data from `Flat File`"
   ]
  },
  {
   "cell_type": "code",
   "execution_count": 23,
   "metadata": {},
   "outputs": [],
   "source": [
    "df = pd.read_csv('demo_file.csv')"
   ]
  },
  {
   "cell_type": "code",
   "execution_count": 24,
   "metadata": {},
   "outputs": [
    {
     "data": {
      "text/html": [
       "<div>\n",
       "<style scoped>\n",
       "    .dataframe tbody tr th:only-of-type {\n",
       "        vertical-align: middle;\n",
       "    }\n",
       "\n",
       "    .dataframe tbody tr th {\n",
       "        vertical-align: top;\n",
       "    }\n",
       "\n",
       "    .dataframe thead th {\n",
       "        text-align: right;\n",
       "    }\n",
       "</style>\n",
       "<table border=\"1\" class=\"dataframe\">\n",
       "  <thead>\n",
       "    <tr style=\"text-align: right;\">\n",
       "      <th></th>\n",
       "      <th>ticker</th>\n",
       "      <th>Frequency: A - annual; Q - quarterly; M - monthly; QM - quarterly and monthly; AQM - annual, quarterly, and monthly</th>\n",
       "      <th>Fund Identifier</th>\n",
       "      <th>Date</th>\n",
       "      <th>Latest Month-end NAV</th>\n",
       "      <th>Latest Month-end NAV Date</th>\n",
       "      <th>Latest Month-end TNA</th>\n",
       "      <th>Latest Month-end TNA Date</th>\n",
       "      <th>Income Yield</th>\n",
       "      <th>Calendar Year-to-Date Dividend Sum</th>\n",
       "      <th>...</th>\n",
       "      <th>Date of 52 Week High NAV</th>\n",
       "      <th>52 Week Low NAV</th>\n",
       "      <th>Date of 52 Week Low NAV</th>\n",
       "      <th>Unrealized Appreciation/Depreciation</th>\n",
       "      <th>Unrealized Appreciation/Depreciation Date</th>\n",
       "      <th>Date for Which Asset Composition Applies</th>\n",
       "      <th>Amount of fund invested in Common Stocks</th>\n",
       "      <th>Amount of fund invested in Preferred Stocks</th>\n",
       "      <th>Amount of fund invested in Convertible Bonds</th>\n",
       "      <th>Amount of fund invested in Corporate Bonds</th>\n",
       "    </tr>\n",
       "  </thead>\n",
       "  <tbody>\n",
       "    <tr>\n",
       "      <td>0</td>\n",
       "      <td>APITX</td>\n",
       "      <td>Q</td>\n",
       "      <td>105</td>\n",
       "      <td>20190329</td>\n",
       "      <td>11.75</td>\n",
       "      <td>20190329</td>\n",
       "      <td>24.3</td>\n",
       "      <td>20190329</td>\n",
       "      <td>NaN</td>\n",
       "      <td>NaN</td>\n",
       "      <td>...</td>\n",
       "      <td>20180829</td>\n",
       "      <td>9.83</td>\n",
       "      <td>20181224</td>\n",
       "      <td>NaN</td>\n",
       "      <td>NaN</td>\n",
       "      <td>20190131</td>\n",
       "      <td>75.87</td>\n",
       "      <td>0.0</td>\n",
       "      <td>0</td>\n",
       "      <td>0.0</td>\n",
       "    </tr>\n",
       "    <tr>\n",
       "      <td>1</td>\n",
       "      <td>APITX</td>\n",
       "      <td>AQ</td>\n",
       "      <td>105</td>\n",
       "      <td>20171229</td>\n",
       "      <td>14.96</td>\n",
       "      <td>20171229</td>\n",
       "      <td>29.6</td>\n",
       "      <td>20171229</td>\n",
       "      <td>NaN</td>\n",
       "      <td>NaN</td>\n",
       "      <td>...</td>\n",
       "      <td>20171130</td>\n",
       "      <td>12.86</td>\n",
       "      <td>20170103</td>\n",
       "      <td>NaN</td>\n",
       "      <td>NaN</td>\n",
       "      <td>20171031</td>\n",
       "      <td>68.88</td>\n",
       "      <td>0.0</td>\n",
       "      <td>0</td>\n",
       "      <td>0.0</td>\n",
       "    </tr>\n",
       "    <tr>\n",
       "      <td>2</td>\n",
       "      <td>APITX</td>\n",
       "      <td>Q</td>\n",
       "      <td>105</td>\n",
       "      <td>20190930</td>\n",
       "      <td>12.47</td>\n",
       "      <td>20190930</td>\n",
       "      <td>24.3</td>\n",
       "      <td>20190930</td>\n",
       "      <td>NaN</td>\n",
       "      <td>NaN</td>\n",
       "      <td>...</td>\n",
       "      <td>20181002</td>\n",
       "      <td>9.83</td>\n",
       "      <td>20181224</td>\n",
       "      <td>NaN</td>\n",
       "      <td>NaN</td>\n",
       "      <td>20190731</td>\n",
       "      <td>77.84</td>\n",
       "      <td>0.0</td>\n",
       "      <td>0</td>\n",
       "      <td>0.0</td>\n",
       "    </tr>\n",
       "    <tr>\n",
       "      <td>3</td>\n",
       "      <td>APITX</td>\n",
       "      <td>Q</td>\n",
       "      <td>105</td>\n",
       "      <td>20180329</td>\n",
       "      <td>14.88</td>\n",
       "      <td>20180329</td>\n",
       "      <td>28.9</td>\n",
       "      <td>20180329</td>\n",
       "      <td>NaN</td>\n",
       "      <td>NaN</td>\n",
       "      <td>...</td>\n",
       "      <td>20171130</td>\n",
       "      <td>13.59</td>\n",
       "      <td>20170413</td>\n",
       "      <td>NaN</td>\n",
       "      <td>NaN</td>\n",
       "      <td>20180131</td>\n",
       "      <td>71.64</td>\n",
       "      <td>0.0</td>\n",
       "      <td>0</td>\n",
       "      <td>0.0</td>\n",
       "    </tr>\n",
       "    <tr>\n",
       "      <td>4</td>\n",
       "      <td>APITX</td>\n",
       "      <td>Q</td>\n",
       "      <td>105</td>\n",
       "      <td>20180629</td>\n",
       "      <td>14.84</td>\n",
       "      <td>20180629</td>\n",
       "      <td>27.0</td>\n",
       "      <td>20180629</td>\n",
       "      <td>NaN</td>\n",
       "      <td>NaN</td>\n",
       "      <td>...</td>\n",
       "      <td>20171130</td>\n",
       "      <td>14.33</td>\n",
       "      <td>20170706</td>\n",
       "      <td>NaN</td>\n",
       "      <td>NaN</td>\n",
       "      <td>20180430</td>\n",
       "      <td>72.59</td>\n",
       "      <td>0.0</td>\n",
       "      <td>0</td>\n",
       "      <td>0.0</td>\n",
       "    </tr>\n",
       "  </tbody>\n",
       "</table>\n",
       "<p>5 rows × 22 columns</p>\n",
       "</div>"
      ],
      "text/plain": [
       "  ticker  \\\n",
       "0  APITX   \n",
       "1  APITX   \n",
       "2  APITX   \n",
       "3  APITX   \n",
       "4  APITX   \n",
       "\n",
       "  Frequency: A - annual; Q - quarterly; M - monthly; QM - quarterly and monthly; AQM - annual, quarterly, and monthly  \\\n",
       "0                                                  Q                                                                    \n",
       "1                                                 AQ                                                                    \n",
       "2                                                  Q                                                                    \n",
       "3                                                  Q                                                                    \n",
       "4                                                  Q                                                                    \n",
       "\n",
       "   Fund Identifier      Date  Latest Month-end NAV  Latest Month-end NAV Date  \\\n",
       "0              105  20190329                 11.75                   20190329   \n",
       "1              105  20171229                 14.96                   20171229   \n",
       "2              105  20190930                 12.47                   20190930   \n",
       "3              105  20180329                 14.88                   20180329   \n",
       "4              105  20180629                 14.84                   20180629   \n",
       "\n",
       "   Latest Month-end TNA  Latest Month-end TNA Date  Income Yield  \\\n",
       "0                  24.3                   20190329           NaN   \n",
       "1                  29.6                   20171229           NaN   \n",
       "2                  24.3                   20190930           NaN   \n",
       "3                  28.9                   20180329           NaN   \n",
       "4                  27.0                   20180629           NaN   \n",
       "\n",
       "   Calendar Year-to-Date Dividend Sum  ...  Date of 52 Week High NAV  \\\n",
       "0                                 NaN  ...                  20180829   \n",
       "1                                 NaN  ...                  20171130   \n",
       "2                                 NaN  ...                  20181002   \n",
       "3                                 NaN  ...                  20171130   \n",
       "4                                 NaN  ...                  20171130   \n",
       "\n",
       "   52 Week Low NAV  Date of 52 Week Low NAV  \\\n",
       "0             9.83                 20181224   \n",
       "1            12.86                 20170103   \n",
       "2             9.83                 20181224   \n",
       "3            13.59                 20170413   \n",
       "4            14.33                 20170706   \n",
       "\n",
       "   Unrealized Appreciation/Depreciation  \\\n",
       "0                                   NaN   \n",
       "1                                   NaN   \n",
       "2                                   NaN   \n",
       "3                                   NaN   \n",
       "4                                   NaN   \n",
       "\n",
       "   Unrealized Appreciation/Depreciation Date  \\\n",
       "0                                        NaN   \n",
       "1                                        NaN   \n",
       "2                                        NaN   \n",
       "3                                        NaN   \n",
       "4                                        NaN   \n",
       "\n",
       "   Date for Which Asset Composition Applies  \\\n",
       "0                                  20190131   \n",
       "1                                  20171031   \n",
       "2                                  20190731   \n",
       "3                                  20180131   \n",
       "4                                  20180430   \n",
       "\n",
       "   Amount of fund invested in Common Stocks  \\\n",
       "0                                     75.87   \n",
       "1                                     68.88   \n",
       "2                                     77.84   \n",
       "3                                     71.64   \n",
       "4                                     72.59   \n",
       "\n",
       "   Amount of fund invested in Preferred Stocks  \\\n",
       "0                                          0.0   \n",
       "1                                          0.0   \n",
       "2                                          0.0   \n",
       "3                                          0.0   \n",
       "4                                          0.0   \n",
       "\n",
       "   Amount of fund invested in Convertible Bonds  \\\n",
       "0                                             0   \n",
       "1                                             0   \n",
       "2                                             0   \n",
       "3                                             0   \n",
       "4                                             0   \n",
       "\n",
       "   Amount of fund invested in Corporate Bonds  \n",
       "0                                         0.0  \n",
       "1                                         0.0  \n",
       "2                                         0.0  \n",
       "3                                         0.0  \n",
       "4                                         0.0  \n",
       "\n",
       "[5 rows x 22 columns]"
      ]
     },
     "execution_count": 24,
     "metadata": {},
     "output_type": "execute_result"
    }
   ],
   "source": [
    "df.head()"
   ]
  },
  {
   "cell_type": "markdown",
   "metadata": {},
   "source": [
    "### Preprocess the dataframe"
   ]
  },
  {
   "cell_type": "code",
   "execution_count": 25,
   "metadata": {},
   "outputs": [],
   "source": [
    "def preprocess(df):\n",
    "    \n",
    "    ### rename columns\n",
    "    columns = [re.sub(r'[-\\s/]', '_', col).lower() for col in df.columns]\n",
    "    columns[1] = 'frequency'\n",
    "    \n",
    "    df.columns = columns\n",
    "    ### extract date columns\n",
    "    date_cols = [col for col in df.columns if 'date' in col and 'to_date' not in col]\n",
    "    for col in date_cols:\n",
    "        df.loc[:, col] = pd.to_datetime(df[col], format='%Y%m%d')"
   ]
  },
  {
   "cell_type": "code",
   "execution_count": 26,
   "metadata": {},
   "outputs": [],
   "source": [
    "preprocess(df)"
   ]
  },
  {
   "cell_type": "code",
   "execution_count": 27,
   "metadata": {},
   "outputs": [],
   "source": [
    "c.update_table(table_name='mutual_funds', dataframe=df, schema='morning_star', index=False, if_exists='replace')"
   ]
  },
  {
   "cell_type": "markdown",
   "metadata": {},
   "source": [
    "## Test"
   ]
  },
  {
   "cell_type": "code",
   "execution_count": 28,
   "metadata": {},
   "outputs": [],
   "source": [
    "df = c.get_dataframe(table_name='mutual_funds', schema='morning_star')"
   ]
  },
  {
   "cell_type": "code",
   "execution_count": 29,
   "metadata": {},
   "outputs": [
    {
     "data": {
      "text/html": [
       "<div>\n",
       "<style scoped>\n",
       "    .dataframe tbody tr th:only-of-type {\n",
       "        vertical-align: middle;\n",
       "    }\n",
       "\n",
       "    .dataframe tbody tr th {\n",
       "        vertical-align: top;\n",
       "    }\n",
       "\n",
       "    .dataframe thead th {\n",
       "        text-align: right;\n",
       "    }\n",
       "</style>\n",
       "<table border=\"1\" class=\"dataframe\">\n",
       "  <thead>\n",
       "    <tr style=\"text-align: right;\">\n",
       "      <th></th>\n",
       "      <th>ticker</th>\n",
       "      <th>frequency</th>\n",
       "      <th>fund_identifier</th>\n",
       "      <th>date</th>\n",
       "      <th>latest_month_end_nav</th>\n",
       "      <th>latest_month_end_nav_date</th>\n",
       "      <th>latest_month_end_tna</th>\n",
       "      <th>latest_month_end_tna_date</th>\n",
       "      <th>income_yield</th>\n",
       "      <th>calendar_year_to_date_dividend_sum</th>\n",
       "      <th>...</th>\n",
       "      <th>date_of_52_week_high_nav</th>\n",
       "      <th>52_week_low_nav</th>\n",
       "      <th>date_of_52_week_low_nav</th>\n",
       "      <th>unrealized_appreciation_depreciation</th>\n",
       "      <th>unrealized_appreciation_depreciation_date</th>\n",
       "      <th>date_for_which_asset_composition_applies</th>\n",
       "      <th>amount_of_fund_invested_in_common_stocks</th>\n",
       "      <th>amount_of_fund_invested_in_preferred_stocks</th>\n",
       "      <th>amount_of_fund_invested_in_convertible_bonds</th>\n",
       "      <th>amount_of_fund_invested_in_corporate_bonds</th>\n",
       "    </tr>\n",
       "  </thead>\n",
       "  <tbody>\n",
       "    <tr>\n",
       "      <td>0</td>\n",
       "      <td>APITX</td>\n",
       "      <td>Q</td>\n",
       "      <td>105</td>\n",
       "      <td>2019-03-29</td>\n",
       "      <td>11.75</td>\n",
       "      <td>2019-03-29</td>\n",
       "      <td>24.3</td>\n",
       "      <td>2019-03-29</td>\n",
       "      <td>NaN</td>\n",
       "      <td>NaN</td>\n",
       "      <td>...</td>\n",
       "      <td>2018-08-29</td>\n",
       "      <td>9.83</td>\n",
       "      <td>2018-12-24</td>\n",
       "      <td>NaN</td>\n",
       "      <td>NaT</td>\n",
       "      <td>2019-01-31</td>\n",
       "      <td>75.87</td>\n",
       "      <td>0.0</td>\n",
       "      <td>0</td>\n",
       "      <td>0.0</td>\n",
       "    </tr>\n",
       "    <tr>\n",
       "      <td>1</td>\n",
       "      <td>APITX</td>\n",
       "      <td>AQ</td>\n",
       "      <td>105</td>\n",
       "      <td>2017-12-29</td>\n",
       "      <td>14.96</td>\n",
       "      <td>2017-12-29</td>\n",
       "      <td>29.6</td>\n",
       "      <td>2017-12-29</td>\n",
       "      <td>NaN</td>\n",
       "      <td>NaN</td>\n",
       "      <td>...</td>\n",
       "      <td>2017-11-30</td>\n",
       "      <td>12.86</td>\n",
       "      <td>2017-01-03</td>\n",
       "      <td>NaN</td>\n",
       "      <td>NaT</td>\n",
       "      <td>2017-10-31</td>\n",
       "      <td>68.88</td>\n",
       "      <td>0.0</td>\n",
       "      <td>0</td>\n",
       "      <td>0.0</td>\n",
       "    </tr>\n",
       "    <tr>\n",
       "      <td>2</td>\n",
       "      <td>APITX</td>\n",
       "      <td>Q</td>\n",
       "      <td>105</td>\n",
       "      <td>2019-09-30</td>\n",
       "      <td>12.47</td>\n",
       "      <td>2019-09-30</td>\n",
       "      <td>24.3</td>\n",
       "      <td>2019-09-30</td>\n",
       "      <td>NaN</td>\n",
       "      <td>NaN</td>\n",
       "      <td>...</td>\n",
       "      <td>2018-10-02</td>\n",
       "      <td>9.83</td>\n",
       "      <td>2018-12-24</td>\n",
       "      <td>NaN</td>\n",
       "      <td>NaT</td>\n",
       "      <td>2019-07-31</td>\n",
       "      <td>77.84</td>\n",
       "      <td>0.0</td>\n",
       "      <td>0</td>\n",
       "      <td>0.0</td>\n",
       "    </tr>\n",
       "    <tr>\n",
       "      <td>3</td>\n",
       "      <td>APITX</td>\n",
       "      <td>Q</td>\n",
       "      <td>105</td>\n",
       "      <td>2018-03-29</td>\n",
       "      <td>14.88</td>\n",
       "      <td>2018-03-29</td>\n",
       "      <td>28.9</td>\n",
       "      <td>2018-03-29</td>\n",
       "      <td>NaN</td>\n",
       "      <td>NaN</td>\n",
       "      <td>...</td>\n",
       "      <td>2017-11-30</td>\n",
       "      <td>13.59</td>\n",
       "      <td>2017-04-13</td>\n",
       "      <td>NaN</td>\n",
       "      <td>NaT</td>\n",
       "      <td>2018-01-31</td>\n",
       "      <td>71.64</td>\n",
       "      <td>0.0</td>\n",
       "      <td>0</td>\n",
       "      <td>0.0</td>\n",
       "    </tr>\n",
       "    <tr>\n",
       "      <td>4</td>\n",
       "      <td>APITX</td>\n",
       "      <td>Q</td>\n",
       "      <td>105</td>\n",
       "      <td>2018-06-29</td>\n",
       "      <td>14.84</td>\n",
       "      <td>2018-06-29</td>\n",
       "      <td>27.0</td>\n",
       "      <td>2018-06-29</td>\n",
       "      <td>NaN</td>\n",
       "      <td>NaN</td>\n",
       "      <td>...</td>\n",
       "      <td>2017-11-30</td>\n",
       "      <td>14.33</td>\n",
       "      <td>2017-07-06</td>\n",
       "      <td>NaN</td>\n",
       "      <td>NaT</td>\n",
       "      <td>2018-04-30</td>\n",
       "      <td>72.59</td>\n",
       "      <td>0.0</td>\n",
       "      <td>0</td>\n",
       "      <td>0.0</td>\n",
       "    </tr>\n",
       "  </tbody>\n",
       "</table>\n",
       "<p>5 rows × 22 columns</p>\n",
       "</div>"
      ],
      "text/plain": [
       "  ticker frequency  fund_identifier       date  latest_month_end_nav  \\\n",
       "0  APITX         Q              105 2019-03-29                 11.75   \n",
       "1  APITX        AQ              105 2017-12-29                 14.96   \n",
       "2  APITX         Q              105 2019-09-30                 12.47   \n",
       "3  APITX         Q              105 2018-03-29                 14.88   \n",
       "4  APITX         Q              105 2018-06-29                 14.84   \n",
       "\n",
       "  latest_month_end_nav_date  latest_month_end_tna latest_month_end_tna_date  \\\n",
       "0                2019-03-29                  24.3                2019-03-29   \n",
       "1                2017-12-29                  29.6                2017-12-29   \n",
       "2                2019-09-30                  24.3                2019-09-30   \n",
       "3                2018-03-29                  28.9                2018-03-29   \n",
       "4                2018-06-29                  27.0                2018-06-29   \n",
       "\n",
       "   income_yield  calendar_year_to_date_dividend_sum  ...  \\\n",
       "0           NaN                                 NaN  ...   \n",
       "1           NaN                                 NaN  ...   \n",
       "2           NaN                                 NaN  ...   \n",
       "3           NaN                                 NaN  ...   \n",
       "4           NaN                                 NaN  ...   \n",
       "\n",
       "   date_of_52_week_high_nav  52_week_low_nav date_of_52_week_low_nav  \\\n",
       "0                2018-08-29             9.83              2018-12-24   \n",
       "1                2017-11-30            12.86              2017-01-03   \n",
       "2                2018-10-02             9.83              2018-12-24   \n",
       "3                2017-11-30            13.59              2017-04-13   \n",
       "4                2017-11-30            14.33              2017-07-06   \n",
       "\n",
       "   unrealized_appreciation_depreciation  \\\n",
       "0                                   NaN   \n",
       "1                                   NaN   \n",
       "2                                   NaN   \n",
       "3                                   NaN   \n",
       "4                                   NaN   \n",
       "\n",
       "  unrealized_appreciation_depreciation_date  \\\n",
       "0                                       NaT   \n",
       "1                                       NaT   \n",
       "2                                       NaT   \n",
       "3                                       NaT   \n",
       "4                                       NaT   \n",
       "\n",
       "   date_for_which_asset_composition_applies  \\\n",
       "0                                2019-01-31   \n",
       "1                                2017-10-31   \n",
       "2                                2019-07-31   \n",
       "3                                2018-01-31   \n",
       "4                                2018-04-30   \n",
       "\n",
       "  amount_of_fund_invested_in_common_stocks  \\\n",
       "0                                    75.87   \n",
       "1                                    68.88   \n",
       "2                                    77.84   \n",
       "3                                    71.64   \n",
       "4                                    72.59   \n",
       "\n",
       "  amount_of_fund_invested_in_preferred_stocks  \\\n",
       "0                                         0.0   \n",
       "1                                         0.0   \n",
       "2                                         0.0   \n",
       "3                                         0.0   \n",
       "4                                         0.0   \n",
       "\n",
       "   amount_of_fund_invested_in_convertible_bonds  \\\n",
       "0                                             0   \n",
       "1                                             0   \n",
       "2                                             0   \n",
       "3                                             0   \n",
       "4                                             0   \n",
       "\n",
       "   amount_of_fund_invested_in_corporate_bonds  \n",
       "0                                         0.0  \n",
       "1                                         0.0  \n",
       "2                                         0.0  \n",
       "3                                         0.0  \n",
       "4                                         0.0  \n",
       "\n",
       "[5 rows x 22 columns]"
      ]
     },
     "execution_count": 29,
     "metadata": {},
     "output_type": "execute_result"
    }
   ],
   "source": [
    "df.head()"
   ]
  },
  {
   "cell_type": "code",
   "execution_count": 30,
   "metadata": {},
   "outputs": [],
   "source": [
    "c.close()   ## close connection"
   ]
  }
 ],
 "metadata": {
  "kernelspec": {
   "display_name": "Python 3",
   "language": "python",
   "name": "python3"
  },
  "language_info": {
   "codemirror_mode": {
    "name": "ipython",
    "version": 3
   },
   "file_extension": ".py",
   "mimetype": "text/x-python",
   "name": "python",
   "nbconvert_exporter": "python",
   "pygments_lexer": "ipython3",
   "version": "3.7.4"
  }
 },
 "nbformat": 4,
 "nbformat_minor": 2
}
