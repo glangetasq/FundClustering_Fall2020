{
 "cells": [
  {
   "cell_type": "markdown",
   "metadata": {},
   "source": [
    "# Fund Clustering - Data Component Explanations"
   ]
  },
  {
   "cell_type": "markdown",
   "metadata": {},
   "source": [
    "## Table of contents\n",
    "\n",
    "1. Introduction\n",
    "2. Data Helper methods\n",
    "3. Data Reader classes\n",
    "    1. SQL Data Reader class\n",
    "    2. CSV Data Reader class\n",
    "    3. Retrieve data from a DataReader\n",
    "3. Data Catcher class\n",
    "    1. Process the data\n",
    "    2. Access the data\n",
    "4. Data Writer class\n",
    "5. Data Maker class\n",
    "\n",
    "\n",
    "Last Date Modified: Dec 20th, 2020"
   ]
  },
  {
   "cell_type": "markdown",
   "metadata": {},
   "source": [
    "## Change current working directory to root of repository"
   ]
  },
  {
   "cell_type": "code",
   "execution_count": 1,
   "metadata": {},
   "outputs": [
    {
     "name": "stdout",
     "output_type": "stream",
     "text": [
      "Current working directory:\n",
      "\t/Users/glangetasq/Library/Mobile Documents/com~apple~CloudDocs/Columbia/Classes/Fall_20/DeepLearning/FundClusteringProject/Repo/Demo\n",
      "\n",
      "New working directory:\n",
      "\n",
      "\t/Users/glangetasq/Library/Mobile Documents/com~apple~CloudDocs/Columbia/Classes/Fall_20/DeepLearning/FundClusteringProject/Repo\n"
     ]
    }
   ],
   "source": [
    "import os\n",
    "\n",
    "old_path = os.getcwd()\n",
    "\n",
    "print(f\"Current working directory:\\n\\t{old_path}\")\n",
    "\n",
    "new_path = old_path[:-len('Demo')-1]\n",
    "os.chdir(new_path)\n",
    "\n",
    "print(f\"\\nNew working directory:\\n\\n\\t{new_path}\")"
   ]
  },
  {
   "cell_type": "markdown",
   "metadata": {},
   "source": [
    "## Imports"
   ]
  },
  {
   "cell_type": "code",
   "execution_count": 47,
   "metadata": {},
   "outputs": [],
   "source": [
    "import numpy as np\n",
    "import pandas as pd"
   ]
  },
  {
   "cell_type": "code",
   "execution_count": 2,
   "metadata": {},
   "outputs": [],
   "source": [
    "import Config\n",
    "import DataHelper"
   ]
  },
  {
   "cell_type": "markdown",
   "metadata": {},
   "source": [
    "# 1. Introduction\n",
    "\n",
    "The Data component has been made with the goal of completely separating the data handling within the project. It is supposed to be able to read the raw data, process it, make fake data for testing and write the data, for different source type (currently SQL and CSV are supported). \n",
    "\n",
    "Also, the aim was to make a data component as flexbile as possible, to enable adding new dataset, processing and source type. "
   ]
  },
  {
   "cell_type": "markdown",
   "metadata": {},
   "source": [
    "# 2. Data Helper methods\n",
    "\n",
    "The Data Helper methods, defined in ```DataHelper/DataHelper.py``` should be the only part of the Data component accessible from outside. This is done to make sure the internal behavior of the component is separated from the modelling, etc. \n",
    "\n",
    "The use of the different methods will be illustrated in the following sections."
   ]
  },
  {
   "cell_type": "markdown",
   "metadata": {},
   "source": [
    "# 3. Data Reader classes\n",
    "\n",
    "The Data Reader classes' role is to read the data from a specific source and store it within itself. \n",
    "\n",
    "Because it is supposed to be a read-only class, it has the Singleton design pattern: at most one instance of a specific Data Reader can exist at any given time. This is also to avoid unecessary use of the memory. \n",
    "\n",
    "Currently, two data source are supported: either via a SQL database, or CSV files."
   ]
  },
  {
   "cell_type": "markdown",
   "metadata": {},
   "source": [
    "## 3.1. Read with the SQL Data Reader class\n",
    "\n",
    "The SQL version reads the data directly from a database (that should have been properly set up beforehand). Some processing is already included to accelerate the process.\n",
    "\n",
    "The template and request to each table is included in a natural order at ```Config/SQL/Structure/```. For instance ```Config/SQL/Structure/fund_clustering/returns.py``` include the template and sql request done to the table ```returns``` from the data base ```fund_clustering```."
   ]
  },
  {
   "cell_type": "code",
   "execution_count": 3,
   "metadata": {},
   "outputs": [],
   "source": [
    "reader = DataHelper.get_data_reader(source='sql')"
   ]
  },
  {
   "cell_type": "code",
   "execution_count": 4,
   "metadata": {},
   "outputs": [
    {
     "data": {
      "text/plain": [
       "('0x10e3d60d0', '0x10e3d60d0')"
      ]
     },
     "execution_count": 4,
     "metadata": {},
     "output_type": "execute_result"
    }
   ],
   "source": [
    "# Only one instance allowed at a time\n",
    "hex(id(reader)), hex(id(DataHelper.get_data_reader(source='sql')))"
   ]
  },
  {
   "cell_type": "markdown",
   "metadata": {},
   "source": [
    "### Read the returns"
   ]
  },
  {
   "cell_type": "code",
   "execution_count": 5,
   "metadata": {},
   "outputs": [],
   "source": [
    "reader.load_table(db_name='fund_clustering', table_name='returns')"
   ]
  },
  {
   "cell_type": "markdown",
   "metadata": {},
   "source": [
    "### Read the morning star table"
   ]
  },
  {
   "cell_type": "code",
   "execution_count": 6,
   "metadata": {},
   "outputs": [],
   "source": [
    "reader.load_table(db_name='fund_clustering', table_name='morning_star')"
   ]
  },
  {
   "cell_type": "markdown",
   "metadata": {},
   "source": [
    "### Read the fund number to ticker table"
   ]
  },
  {
   "cell_type": "code",
   "execution_count": 7,
   "metadata": {},
   "outputs": [],
   "source": [
    "reader.load_table(db_name='fund_clustering', table_name='ticker')"
   ]
  },
  {
   "cell_type": "markdown",
   "metadata": {},
   "source": [
    "## 3.2. Read with the CSV Data Reader class\n",
    "\n",
    "It reads CSV files. The paths can be stored in the ```DATA_PATHS``` global variable (defined in ```Config/paths.py```), although it can be customized when calling the ```load_table``` method.\n",
    "\n",
    "To make the implemetation consistent with the SQL Data Reader class, please use the same ```db_name``` and ```table_name``` when reading each files, as shown below."
   ]
  },
  {
   "cell_type": "code",
   "execution_count": 8,
   "metadata": {},
   "outputs": [
    {
     "data": {
      "text/plain": [
       "('0x10e3d60d0', '0x12304f9d0')"
      ]
     },
     "execution_count": 8,
     "metadata": {},
     "output_type": "execute_result"
    }
   ],
   "source": [
    "# Only one instance allowed at a time\n",
    "hex(id(reader)), hex(id(DataHelper.get_data_reader(source='csv')))"
   ]
  },
  {
   "cell_type": "code",
   "execution_count": 9,
   "metadata": {},
   "outputs": [],
   "source": [
    "reader = DataHelper.get_data_reader(source='csv')"
   ]
  },
  {
   "cell_type": "code",
   "execution_count": 10,
   "metadata": {},
   "outputs": [
    {
     "data": {
      "text/plain": [
       "('0x12304f9d0', '0x12304f9d0')"
      ]
     },
     "execution_count": 10,
     "metadata": {},
     "output_type": "execute_result"
    }
   ],
   "source": [
    "# Only one instance allowed at a time\n",
    "hex(id(reader)), hex(id(DataHelper.get_data_reader(source='csv')))"
   ]
  },
  {
   "cell_type": "markdown",
   "metadata": {},
   "source": [
    "### Read the returns"
   ]
  },
  {
   "cell_type": "code",
   "execution_count": 11,
   "metadata": {},
   "outputs": [],
   "source": [
    "returns_path = Config.DATA_PATHS['returns']\n",
    "reader.load_table(db_name='fund_clustering', table_name='returns', path=returns_path)"
   ]
  },
  {
   "cell_type": "markdown",
   "metadata": {},
   "source": [
    "### Read the morning star table"
   ]
  },
  {
   "cell_type": "code",
   "execution_count": 12,
   "metadata": {},
   "outputs": [
    {
     "name": "stderr",
     "output_type": "stream",
     "text": [
      "/Users/glangetasq/Library/Mobile Documents/com~apple~CloudDocs/Columbia/Classes/Fall_20/DeepLearning/FundClusteringProject/Repo/env/lib/python3.9/site-packages/IPython/core/interactiveshell.py:3338: DtypeWarning: Columns (47,49,50) have mixed types.Specify dtype option on import or set low_memory=False.\n",
      "  if (await self.run_code(code, result,  async_=asy)):\n"
     ]
    }
   ],
   "source": [
    "mrnstar_path = Config.DATA_PATHS['morning_star']\n",
    "reader.load_table(db_name='fund_clustering', table_name='morning_star', path=mrnstar_path)"
   ]
  },
  {
   "cell_type": "markdown",
   "metadata": {},
   "source": [
    "### Read the fund number to ticker table"
   ]
  },
  {
   "cell_type": "code",
   "execution_count": 13,
   "metadata": {},
   "outputs": [],
   "source": [
    "ticker_path = Config.DATA_PATHS['ticker']\n",
    "reader.load_table(db_name='fund_clustering', table_name='ticker', path=ticker_path)"
   ]
  },
  {
   "cell_type": "markdown",
   "metadata": {},
   "source": [
    "## 3.3 Retrieve the raw data from any reader"
   ]
  },
  {
   "cell_type": "code",
   "execution_count": 33,
   "metadata": {},
   "outputs": [
    {
     "data": {
      "text/html": [
       "<div>\n",
       "<style scoped>\n",
       "    .dataframe tbody tr th:only-of-type {\n",
       "        vertical-align: middle;\n",
       "    }\n",
       "\n",
       "    .dataframe tbody tr th {\n",
       "        vertical-align: top;\n",
       "    }\n",
       "\n",
       "    .dataframe thead th {\n",
       "        text-align: right;\n",
       "    }\n",
       "</style>\n",
       "<table border=\"1\" class=\"dataframe\">\n",
       "  <thead>\n",
       "    <tr style=\"text-align: right;\">\n",
       "      <th></th>\n",
       "      <th>date</th>\n",
       "      <th>105</th>\n",
       "      <th>2704</th>\n",
       "      <th>2706</th>\n",
       "      <th>2708</th>\n",
       "      <th>2724</th>\n",
       "    </tr>\n",
       "  </thead>\n",
       "  <tbody>\n",
       "    <tr>\n",
       "      <th>0</th>\n",
       "      <td>2010-01-04</td>\n",
       "      <td>0.024129</td>\n",
       "      <td>0.005268</td>\n",
       "      <td>0.010772</td>\n",
       "      <td>0.014401</td>\n",
       "      <td>0.018217</td>\n",
       "    </tr>\n",
       "    <tr>\n",
       "      <th>1</th>\n",
       "      <td>2010-01-05</td>\n",
       "      <td>0.003927</td>\n",
       "      <td>0.002620</td>\n",
       "      <td>0.002664</td>\n",
       "      <td>0.002662</td>\n",
       "      <td>0.001883</td>\n",
       "    </tr>\n",
       "    <tr>\n",
       "      <th>2</th>\n",
       "      <td>2010-01-06</td>\n",
       "      <td>0.003911</td>\n",
       "      <td>0.000000</td>\n",
       "      <td>0.000886</td>\n",
       "      <td>0.001770</td>\n",
       "      <td>0.001880</td>\n",
       "    </tr>\n",
       "    <tr>\n",
       "      <th>3</th>\n",
       "      <td>2010-01-07</td>\n",
       "      <td>-0.001299</td>\n",
       "      <td>0.000871</td>\n",
       "      <td>0.000885</td>\n",
       "      <td>0.000000</td>\n",
       "      <td>0.000000</td>\n",
       "    </tr>\n",
       "    <tr>\n",
       "      <th>4</th>\n",
       "      <td>2010-01-08</td>\n",
       "      <td>0.006502</td>\n",
       "      <td>0.002611</td>\n",
       "      <td>0.004421</td>\n",
       "      <td>0.005300</td>\n",
       "      <td>0.005629</td>\n",
       "    </tr>\n",
       "  </tbody>\n",
       "</table>\n",
       "</div>"
      ],
      "text/plain": [
       "        date       105      2704      2706      2708      2724\n",
       "0 2010-01-04  0.024129  0.005268  0.010772  0.014401  0.018217\n",
       "1 2010-01-05  0.003927  0.002620  0.002664  0.002662  0.001883\n",
       "2 2010-01-06  0.003911  0.000000  0.000886  0.001770  0.001880\n",
       "3 2010-01-07 -0.001299  0.000871  0.000885  0.000000  0.000000\n",
       "4 2010-01-08  0.006502  0.002611  0.004421  0.005300  0.005629"
      ]
     },
     "execution_count": 33,
     "metadata": {},
     "output_type": "execute_result"
    }
   ],
   "source": [
    "returns = reader.get_dataframe(db_name='fund_clustering', table_name='returns')\n",
    "returns.iloc[:, 0:6].head()"
   ]
  },
  {
   "cell_type": "markdown",
   "metadata": {},
   "source": [
    "# 4. Data Catcher classes\n",
    "\n",
    "The DataCatchers' job is to process the data from a reader to data that is usable by a model. Unfortunately, we couldn't come up with a better implementation than 1 catcher for each couple (model, source_type)... \n",
    "\n",
    "Reasons:\n",
    "- The processing could be different from model to model (mostly because needs of different datasets)\n",
    "- The source type have different (but equivalent) data: CSV has crsp_fundno has a row, SQL is fundNo"
   ]
  },
  {
   "cell_type": "code",
   "execution_count": 15,
   "metadata": {},
   "outputs": [],
   "source": [
    "source_type = 'csv'\n",
    "model_name = 'classic' # only classic exist for now\n",
    "\n",
    "catcher = DataHelper.get_data_catcher(source=source_type, model=model_name)"
   ]
  },
  {
   "cell_type": "markdown",
   "metadata": {},
   "source": [
    "## 4.1 Process the data\n",
    "\n",
    "As it can take some time, the processing should be done before fitting any model. "
   ]
  },
  {
   "cell_type": "code",
   "execution_count": 16,
   "metadata": {},
   "outputs": [
    {
     "name": "stdout",
     "output_type": "stream",
     "text": [
      "Loading data...\n",
      "... Finished loading data\n",
      "Processing data...\n",
      "... Finished processing data\n"
     ]
    }
   ],
   "source": [
    "catcher.process()"
   ]
  },
  {
   "cell_type": "markdown",
   "metadata": {},
   "source": [
    "## 4.2 Using the data\n",
    "\n",
    "The order of which we retrieve the data should be implemented in the semi-private method ```_pack_data()```, it is an iterator function that yield what is need for each layer in a sequence. \n",
    "\n",
    "We can use ```unpack_data()``` to get the data of one layer at a time. For instance, for the classic model:"
   ]
  },
  {
   "cell_type": "markdown",
   "metadata": {},
   "source": [
    "### First layer"
   ]
  },
  {
   "cell_type": "code",
   "execution_count": 26,
   "metadata": {},
   "outputs": [],
   "source": [
    "features, asset_type = catcher.unpack_data(keys=['features', 'asset_type'])"
   ]
  },
  {
   "cell_type": "code",
   "execution_count": 27,
   "metadata": {},
   "outputs": [
    {
     "data": {
      "text/html": [
       "<div>\n",
       "<style scoped>\n",
       "    .dataframe tbody tr th:only-of-type {\n",
       "        vertical-align: middle;\n",
       "    }\n",
       "\n",
       "    .dataframe tbody tr th {\n",
       "        vertical-align: top;\n",
       "    }\n",
       "\n",
       "    .dataframe thead th {\n",
       "        text-align: right;\n",
       "    }\n",
       "</style>\n",
       "<table border=\"1\" class=\"dataframe\">\n",
       "  <thead>\n",
       "    <tr style=\"text-align: right;\">\n",
       "      <th></th>\n",
       "      <th>cash</th>\n",
       "      <th>equity</th>\n",
       "      <th>bond</th>\n",
       "      <th>security</th>\n",
       "    </tr>\n",
       "  </thead>\n",
       "  <tbody>\n",
       "    <tr>\n",
       "      <th>105</th>\n",
       "      <td>2.30</td>\n",
       "      <td>97.69</td>\n",
       "      <td>0.00</td>\n",
       "      <td>0.00</td>\n",
       "    </tr>\n",
       "    <tr>\n",
       "      <th>2704</th>\n",
       "      <td>-23.01</td>\n",
       "      <td>25.16</td>\n",
       "      <td>57.10</td>\n",
       "      <td>40.74</td>\n",
       "    </tr>\n",
       "    <tr>\n",
       "      <th>2706</th>\n",
       "      <td>-10.28</td>\n",
       "      <td>44.50</td>\n",
       "      <td>40.62</td>\n",
       "      <td>25.18</td>\n",
       "    </tr>\n",
       "    <tr>\n",
       "      <th>2708</th>\n",
       "      <td>-6.16</td>\n",
       "      <td>70.73</td>\n",
       "      <td>20.58</td>\n",
       "      <td>14.82</td>\n",
       "    </tr>\n",
       "    <tr>\n",
       "      <th>2724</th>\n",
       "      <td>-3.57</td>\n",
       "      <td>93.33</td>\n",
       "      <td>3.77</td>\n",
       "      <td>6.47</td>\n",
       "    </tr>\n",
       "  </tbody>\n",
       "</table>\n",
       "</div>"
      ],
      "text/plain": [
       "       cash  equity   bond  security\n",
       "105    2.30   97.69   0.00      0.00\n",
       "2704 -23.01   25.16  57.10     40.74\n",
       "2706 -10.28   44.50  40.62     25.18\n",
       "2708  -6.16   70.73  20.58     14.82\n",
       "2724  -3.57   93.33   3.77      6.47"
      ]
     },
     "execution_count": 27,
     "metadata": {},
     "output_type": "execute_result"
    }
   ],
   "source": [
    "features.head()"
   ]
  },
  {
   "cell_type": "code",
   "execution_count": 28,
   "metadata": {},
   "outputs": [
    {
     "data": {
      "text/plain": [
       "['cash', 'equity', 'bond', 'security']"
      ]
     },
     "execution_count": 28,
     "metadata": {},
     "output_type": "execute_result"
    }
   ],
   "source": [
    "asset_type"
   ]
  },
  {
   "cell_type": "markdown",
   "metadata": {},
   "source": [
    "### Second layer"
   ]
  },
  {
   "cell_type": "code",
   "execution_count": 29,
   "metadata": {},
   "outputs": [],
   "source": [
    "returns, = catcher.unpack_data(keys=['returns'])"
   ]
  },
  {
   "cell_type": "code",
   "execution_count": 32,
   "metadata": {},
   "outputs": [
    {
     "data": {
      "text/html": [
       "<div>\n",
       "<style scoped>\n",
       "    .dataframe tbody tr th:only-of-type {\n",
       "        vertical-align: middle;\n",
       "    }\n",
       "\n",
       "    .dataframe tbody tr th {\n",
       "        vertical-align: top;\n",
       "    }\n",
       "\n",
       "    .dataframe thead th {\n",
       "        text-align: right;\n",
       "    }\n",
       "</style>\n",
       "<table border=\"1\" class=\"dataframe\">\n",
       "  <thead>\n",
       "    <tr style=\"text-align: right;\">\n",
       "      <th></th>\n",
       "      <th>105</th>\n",
       "      <th>2704</th>\n",
       "      <th>2706</th>\n",
       "      <th>2708</th>\n",
       "      <th>2724</th>\n",
       "      <th>2725</th>\n",
       "    </tr>\n",
       "    <tr>\n",
       "      <th>date</th>\n",
       "      <th></th>\n",
       "      <th></th>\n",
       "      <th></th>\n",
       "      <th></th>\n",
       "      <th></th>\n",
       "      <th></th>\n",
       "    </tr>\n",
       "  </thead>\n",
       "  <tbody>\n",
       "    <tr>\n",
       "      <th>2012-01-03</th>\n",
       "      <td>0.014134</td>\n",
       "      <td>0.003419</td>\n",
       "      <td>0.008496</td>\n",
       "      <td>0.015517</td>\n",
       "      <td>0.021120</td>\n",
       "      <td>0.029126</td>\n",
       "    </tr>\n",
       "    <tr>\n",
       "      <th>2012-01-04</th>\n",
       "      <td>-0.003484</td>\n",
       "      <td>0.000000</td>\n",
       "      <td>-0.001685</td>\n",
       "      <td>-0.001698</td>\n",
       "      <td>-0.002698</td>\n",
       "      <td>-0.007719</td>\n",
       "    </tr>\n",
       "    <tr>\n",
       "      <th>2012-01-05</th>\n",
       "      <td>0.003497</td>\n",
       "      <td>0.000852</td>\n",
       "      <td>-0.000844</td>\n",
       "      <td>-0.001701</td>\n",
       "      <td>-0.001803</td>\n",
       "      <td>-0.013829</td>\n",
       "    </tr>\n",
       "    <tr>\n",
       "      <th>2012-01-06</th>\n",
       "      <td>-0.002323</td>\n",
       "      <td>0.000000</td>\n",
       "      <td>0.000000</td>\n",
       "      <td>-0.001704</td>\n",
       "      <td>-0.003613</td>\n",
       "      <td>-0.007011</td>\n",
       "    </tr>\n",
       "    <tr>\n",
       "      <th>2012-01-09</th>\n",
       "      <td>0.004657</td>\n",
       "      <td>0.001702</td>\n",
       "      <td>0.001689</td>\n",
       "      <td>0.001706</td>\n",
       "      <td>0.002720</td>\n",
       "      <td>0.001765</td>\n",
       "    </tr>\n",
       "  </tbody>\n",
       "</table>\n",
       "</div>"
      ],
      "text/plain": [
       "                105       2704      2706      2708      2724      2725\n",
       "date                                                                  \n",
       "2012-01-03  0.014134  0.003419  0.008496  0.015517  0.021120  0.029126\n",
       "2012-01-04 -0.003484  0.000000 -0.001685 -0.001698 -0.002698 -0.007719\n",
       "2012-01-05  0.003497  0.000852 -0.000844 -0.001701 -0.001803 -0.013829\n",
       "2012-01-06 -0.002323  0.000000  0.000000 -0.001704 -0.003613 -0.007011\n",
       "2012-01-09  0.004657  0.001702  0.001689  0.001706  0.002720  0.001765"
      ]
     },
     "execution_count": 32,
     "metadata": {},
     "output_type": "execute_result"
    }
   ],
   "source": [
    "returns.iloc[:, 0:6].head()"
   ]
  },
  {
   "cell_type": "markdown",
   "metadata": {},
   "source": [
    "# 5. Data Writer class\n",
    "\n",
    "For now it's only implemented for SQL output source. Could be implemented for CSV output file too. \n",
    "\n",
    "A DataWriter job is to output a dataframe to a SQL table. It uses the templates set in the ```Config/SQL/Structure/``` folder. "
   ]
  },
  {
   "cell_type": "code",
   "execution_count": 34,
   "metadata": {},
   "outputs": [],
   "source": [
    "writer = DataHelper.get_data_writer()"
   ]
  },
  {
   "cell_type": "code",
   "execution_count": 42,
   "metadata": {},
   "outputs": [
    {
     "data": {
      "text/html": [
       "<div>\n",
       "<style scoped>\n",
       "    .dataframe tbody tr th:only-of-type {\n",
       "        vertical-align: middle;\n",
       "    }\n",
       "\n",
       "    .dataframe tbody tr th {\n",
       "        vertical-align: top;\n",
       "    }\n",
       "\n",
       "    .dataframe thead th {\n",
       "        text-align: right;\n",
       "    }\n",
       "</style>\n",
       "<table border=\"1\" class=\"dataframe\">\n",
       "  <thead>\n",
       "    <tr style=\"text-align: right;\">\n",
       "      <th></th>\n",
       "      <th>fundNo</th>\n",
       "      <th>main_cluster</th>\n",
       "      <th>sub_cluster</th>\n",
       "    </tr>\n",
       "  </thead>\n",
       "  <tbody>\n",
       "    <tr>\n",
       "      <th>0</th>\n",
       "      <td>0</td>\n",
       "      <td>1</td>\n",
       "      <td>1</td>\n",
       "    </tr>\n",
       "    <tr>\n",
       "      <th>1</th>\n",
       "      <td>1</td>\n",
       "      <td>1</td>\n",
       "      <td>2</td>\n",
       "    </tr>\n",
       "    <tr>\n",
       "      <th>2</th>\n",
       "      <td>2</td>\n",
       "      <td>1</td>\n",
       "      <td>3</td>\n",
       "    </tr>\n",
       "    <tr>\n",
       "      <th>3</th>\n",
       "      <td>3</td>\n",
       "      <td>1</td>\n",
       "      <td>4</td>\n",
       "    </tr>\n",
       "    <tr>\n",
       "      <th>4</th>\n",
       "      <td>4</td>\n",
       "      <td>1</td>\n",
       "      <td>5</td>\n",
       "    </tr>\n",
       "  </tbody>\n",
       "</table>\n",
       "</div>"
      ],
      "text/plain": [
       "   fundNo  main_cluster  sub_cluster\n",
       "0       0             1            1\n",
       "1       1             1            2\n",
       "2       2             1            3\n",
       "3       3             1            4\n",
       "4       4             1            5"
      ]
     },
     "execution_count": 42,
     "metadata": {},
     "output_type": "execute_result"
    }
   ],
   "source": [
    "n = 5\n",
    "fake_clusters = pd.DataFrame.from_dict({\n",
    "    'fundNo': range(n),\n",
    "    'main_cluster': n * [1],\n",
    "    'sub_cluster': range(1, n+1),\n",
    "})\n",
    "fake_clusters"
   ]
  },
  {
   "cell_type": "code",
   "execution_count": 43,
   "metadata": {},
   "outputs": [],
   "source": [
    "# Careful before executing this cell uncommented: it could erase existing results\n",
    "\n",
    "\"\"\"\n",
    "writer.update_raw_data(\n",
    "    db_name = 'fund_clustering', \n",
    "    table_name = 'clustering_output', \n",
    "    dataframe = fake_clusters,\n",
    "    chunk_size = None # For huge dataframe can be useful to set a chunk_size as an int\n",
    ")\n",
    "\"\"\""
   ]
  },
  {
   "cell_type": "markdown",
   "metadata": {},
   "source": [
    "# 6. Data Maker class\n",
    "\n",
    "This class is able to make fake data as to use in Unit Testing for instance. Should be revamped for new data needs of models.\n",
    "\n",
    "It should have the same interface as a DataCatcher so as to be used to fit a model directly."
   ]
  },
  {
   "cell_type": "code",
   "execution_count": 48,
   "metadata": {},
   "outputs": [],
   "source": [
    "maker = DataHelper.get_data_maker()"
   ]
  },
  {
   "cell_type": "markdown",
   "metadata": {},
   "source": [
    "## 6.1 Add one fund at a time"
   ]
  },
  {
   "cell_type": "code",
   "execution_count": 49,
   "metadata": {},
   "outputs": [
    {
     "data": {
      "text/plain": [
       "2020-12-01    0.025\n",
       "2020-12-02   -0.030\n",
       "2020-12-03    0.030\n",
       "2020-12-04    0.025\n",
       "2020-12-05   -0.005\n",
       "Freq: D, dtype: float64"
      ]
     },
     "execution_count": 49,
     "metadata": {},
     "output_type": "execute_result"
    }
   ],
   "source": [
    "m_days = 20\n",
    "fake_returns = pd.Series(\n",
    "    np.random.randint(-10, 10, m_days) / 200,\n",
    "    index = pd.date_range('2020-12-01', periods=m_days)\n",
    ")\n",
    "fake_returns.head()"
   ]
  },
  {
   "cell_type": "code",
   "execution_count": 50,
   "metadata": {},
   "outputs": [],
   "source": [
    "fake_morning_star_row = [\n",
    "    1, # fundNo\n",
    "    '2020-12-31', # date\n",
    "    0, # cash\n",
    "    50, # equity\n",
    "    25, # bond\n",
    "    25, # security\n",
    "    'class 1', # lipper class name\n",
    "]"
   ]
  },
  {
   "cell_type": "code",
   "execution_count": 52,
   "metadata": {},
   "outputs": [],
   "source": [
    "maker.add_fake_fund(fake_morning_star_row, fake_returns);"
   ]
  },
  {
   "cell_type": "markdown",
   "metadata": {},
   "source": [
    "## 6.2 Add n funds simultaneously"
   ]
  },
  {
   "cell_type": "code",
   "execution_count": 54,
   "metadata": {},
   "outputs": [],
   "source": [
    "fake_morning_star_row1, fake_returns1 = fake_morning_star_row, fake_returns\n",
    "fake_morning_star_row2, fake_returns2 = fake_morning_star_row, fake_returns"
   ]
  },
  {
   "cell_type": "code",
   "execution_count": 56,
   "metadata": {},
   "outputs": [],
   "source": [
    "fake_funds = [\n",
    "    (fake_morning_star_row1, fake_returns1),\n",
    "    (fake_morning_star_row2, fake_returns2),\n",
    "]"
   ]
  },
  {
   "cell_type": "code",
   "execution_count": 58,
   "metadata": {},
   "outputs": [],
   "source": [
    "maker.bulk_add_fake_fund(fake_funds)"
   ]
  },
  {
   "cell_type": "markdown",
   "metadata": {},
   "source": [
    "The maker can be now used to fit a ```Classic``` model."
   ]
  }
 ],
 "metadata": {
  "kernelspec": {
   "display_name": "env",
   "language": "python",
   "name": "env"
  },
  "language_info": {
   "codemirror_mode": {
    "name": "ipython",
    "version": 3
   },
   "file_extension": ".py",
   "mimetype": "text/x-python",
   "name": "python",
   "nbconvert_exporter": "python",
   "pygments_lexer": "ipython3",
   "version": "3.9.0"
  }
 },
 "nbformat": 4,
 "nbformat_minor": 4
}
