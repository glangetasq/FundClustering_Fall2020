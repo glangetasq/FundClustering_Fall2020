{
 "cells": [
  {
   "cell_type": "markdown",
   "metadata": {},
   "source": [
    "# Workflow to transfer CSV data to SQL database"
   ]
  },
  {
   "cell_type": "code",
   "execution_count": 1,
   "metadata": {},
   "outputs": [],
   "source": [
    "import os"
   ]
  },
  {
   "cell_type": "code",
   "execution_count": 2,
   "metadata": {},
   "outputs": [
    {
     "name": "stdout",
     "output_type": "stream",
     "text": [
      "Current working directory:\n",
      "\n",
      "\t/Users/glangetasq/Library/Mobile Documents/com~apple~CloudDocs/Columbia/Classes/Fall_20/DeepLearning/FundClusteringProject/Repo/Notebooks\n",
      "\n",
      "\n",
      "New working directory:\n",
      "\n",
      "\t/Users/glangetasq/Library/Mobile Documents/com~apple~CloudDocs/Columbia/Classes/Fall_20/DeepLearning/FundClusteringProject/Repo\n"
     ]
    }
   ],
   "source": [
    "old_path = os.getcwd()\n",
    "\n",
    "print(f\"Current working directory:\\n\\n\\t{old_path}\")\n",
    "\n",
    "new_path = old_path[:-len('Notebooks')-1]\n",
    "os.chdir(new_path)\n",
    "\n",
    "print(f\"\\n\\nNew working directory:\\n\\n\\t{new_path}\")"
   ]
  },
  {
   "cell_type": "markdown",
   "metadata": {},
   "source": [
    "# Imports"
   ]
  },
  {
   "cell_type": "code",
   "execution_count": 3,
   "metadata": {},
   "outputs": [],
   "source": [
    "import pandas as pd\n",
    "\n",
    "# Local imports\n",
    "import Config\n",
    "from Config.SQL.Structure.fund_clustering.morning_star import FORMATTING as MORNINGSTAR_FORMATTING\n",
    "import DataHelper as dh\n",
    "from Tools.latest_date_in_dataframe import latest_date_in_dataframe"
   ]
  },
  {
   "cell_type": "markdown",
   "metadata": {},
   "source": [
    "# SQL Login Config"
   ]
  },
  {
   "cell_type": "code",
   "execution_count": 4,
   "metadata": {},
   "outputs": [],
   "source": [
    "username = 'fx_admin'\n",
    "password = '#Flexstone2020'\n",
    "schema = ''\n",
    "secrets_dir = '/Users/glangetasq'"
   ]
  },
  {
   "cell_type": "markdown",
   "metadata": {},
   "source": [
    "# Read the CSV data"
   ]
  },
  {
   "cell_type": "code",
   "execution_count": 5,
   "metadata": {},
   "outputs": [],
   "source": [
    "reader = dh.get_data_reader('csv')"
   ]
  },
  {
   "cell_type": "markdown",
   "metadata": {},
   "source": [
    "## Ticker data"
   ]
  },
  {
   "cell_type": "code",
   "execution_count": 6,
   "metadata": {},
   "outputs": [
    {
     "name": "stdout",
     "output_type": "stream",
     "text": [
      "Loading from /Users/glangetasq/Library/Mobile Documents/com~apple~CloudDocs/Columbia/Classes/Fall_20/DeepLearning/FundClusteringProject/DataSummer/Tickers.csv...\n"
     ]
    }
   ],
   "source": [
    "db_name = 'fund_clustering'\n",
    "table_name = 'ticker'\n",
    "path = Config.DATA_PATHS['ticker']\n",
    "\n",
    "print(f\"Loading from {path}...\")\n",
    "reader.load_table(db_name, table_name, path)"
   ]
  },
  {
   "cell_type": "code",
   "execution_count": 7,
   "metadata": {},
   "outputs": [
    {
     "data": {
      "text/html": [
       "<div>\n",
       "<style scoped>\n",
       "    .dataframe tbody tr th:only-of-type {\n",
       "        vertical-align: middle;\n",
       "    }\n",
       "\n",
       "    .dataframe tbody tr th {\n",
       "        vertical-align: top;\n",
       "    }\n",
       "\n",
       "    .dataframe thead th {\n",
       "        text-align: right;\n",
       "    }\n",
       "</style>\n",
       "<table border=\"1\" class=\"dataframe\">\n",
       "  <thead>\n",
       "    <tr style=\"text-align: right;\">\n",
       "      <th></th>\n",
       "      <th>fundNo</th>\n",
       "      <th>ticker</th>\n",
       "    </tr>\n",
       "    <tr>\n",
       "      <th>fundNo</th>\n",
       "      <th></th>\n",
       "      <th></th>\n",
       "    </tr>\n",
       "  </thead>\n",
       "  <tbody>\n",
       "    <tr>\n",
       "      <th>105</th>\n",
       "      <td>105</td>\n",
       "      <td>APITX</td>\n",
       "    </tr>\n",
       "    <tr>\n",
       "      <th>2704</th>\n",
       "      <td>2704</td>\n",
       "      <td>GFIZX</td>\n",
       "    </tr>\n",
       "    <tr>\n",
       "      <th>2706</th>\n",
       "      <td>2706</td>\n",
       "      <td>GGIZX</td>\n",
       "    </tr>\n",
       "    <tr>\n",
       "      <th>2708</th>\n",
       "      <td>2708</td>\n",
       "      <td>GCOZX</td>\n",
       "    </tr>\n",
       "    <tr>\n",
       "      <th>2724</th>\n",
       "      <td>2724</td>\n",
       "      <td>GGBZX</td>\n",
       "    </tr>\n",
       "  </tbody>\n",
       "</table>\n",
       "</div>"
      ],
      "text/plain": [
       "        fundNo ticker\n",
       "fundNo               \n",
       "105        105  APITX\n",
       "2704      2704  GFIZX\n",
       "2706      2706  GGIZX\n",
       "2708      2708  GCOZX\n",
       "2724      2724  GGBZX"
      ]
     },
     "execution_count": 7,
     "metadata": {},
     "output_type": "execute_result"
    }
   ],
   "source": [
    "ticker = reader.get_dataframe(db_name, table_name)\n",
    "\n",
    "\n",
    "ticker = ticker.rename(columns={'crsp_fundno':'fundNo'})\n",
    "ticker['caldt'] = pd.to_datetime(ticker['caldt'], format='%Y%m%d')\n",
    "\n",
    "# Extract the latest tickers from the dataframe\n",
    "ticker = ticker.groupby('fundNo').apply(latest_date_in_dataframe('caldt'))\n",
    "\n",
    "# Only the fundNo and ticker are in the SQL table\n",
    "ticker = ticker[['fundNo', 'ticker']]\n",
    "\n",
    "# Drop Nas\n",
    "ticker = ticker.dropna()\n",
    "\n",
    "ticker.head()"
   ]
  },
  {
   "cell_type": "markdown",
   "metadata": {},
   "source": [
    "## Returns data"
   ]
  },
  {
   "cell_type": "code",
   "execution_count": 9,
   "metadata": {},
   "outputs": [
    {
     "name": "stdout",
     "output_type": "stream",
     "text": [
      "Loading from /Users/glangetasq/Library/Mobile Documents/com~apple~CloudDocs/Columbia/Classes/Fall_20/DeepLearning/FundClusteringProject/DataSummer/data_trimmed.csv...\n"
     ]
    }
   ],
   "source": [
    "db_name = 'fund_clustering'\n",
    "table_name = 'returns'\n",
    "path = Config.DATA_PATHS['returns']\n",
    "\n",
    "print(f\"Loading from {path}...\")\n",
    "reader.load_table(db_name, table_name, path)"
   ]
  },
  {
   "cell_type": "code",
   "execution_count": 10,
   "metadata": {},
   "outputs": [],
   "source": [
    "returns = reader.get_dataframe(db_name, table_name)"
   ]
  },
  {
   "cell_type": "code",
   "execution_count": 12,
   "metadata": {},
   "outputs": [
    {
     "data": {
      "text/html": [
       "<div>\n",
       "<style scoped>\n",
       "    .dataframe tbody tr th:only-of-type {\n",
       "        vertical-align: middle;\n",
       "    }\n",
       "\n",
       "    .dataframe tbody tr th {\n",
       "        vertical-align: top;\n",
       "    }\n",
       "\n",
       "    .dataframe thead th {\n",
       "        text-align: right;\n",
       "    }\n",
       "</style>\n",
       "<table border=\"1\" class=\"dataframe\">\n",
       "  <thead>\n",
       "    <tr style=\"text-align: right;\">\n",
       "      <th></th>\n",
       "      <th>date</th>\n",
       "      <th>105</th>\n",
       "      <th>2704</th>\n",
       "      <th>2706</th>\n",
       "      <th>2708</th>\n",
       "      <th>2724</th>\n",
       "      <th>2725</th>\n",
       "      <th>2727</th>\n",
       "      <th>2729</th>\n",
       "      <th>2731</th>\n",
       "      <th>...</th>\n",
       "      <th>87961</th>\n",
       "      <th>89331</th>\n",
       "      <th>89332</th>\n",
       "      <th>91557</th>\n",
       "      <th>91558</th>\n",
       "      <th>91559</th>\n",
       "      <th>93598</th>\n",
       "      <th>93941</th>\n",
       "      <th>94443</th>\n",
       "      <th>94457</th>\n",
       "    </tr>\n",
       "  </thead>\n",
       "  <tbody>\n",
       "    <tr>\n",
       "      <th>0</th>\n",
       "      <td>2010-01-04</td>\n",
       "      <td>0.024129</td>\n",
       "      <td>0.005268</td>\n",
       "      <td>0.010772</td>\n",
       "      <td>0.014401</td>\n",
       "      <td>0.018217</td>\n",
       "      <td>0.023312</td>\n",
       "      <td>0.021108</td>\n",
       "      <td>0.015113</td>\n",
       "      <td>0.017544</td>\n",
       "      <td>...</td>\n",
       "      <td>0.017737</td>\n",
       "      <td>0.001309</td>\n",
       "      <td>0.001908</td>\n",
       "      <td>0.009282</td>\n",
       "      <td>0.003001</td>\n",
       "      <td>0.015945</td>\n",
       "      <td>0.005342</td>\n",
       "      <td>-0.177083</td>\n",
       "      <td>0.000000</td>\n",
       "      <td>0.000000</td>\n",
       "    </tr>\n",
       "    <tr>\n",
       "      <th>1</th>\n",
       "      <td>2010-01-05</td>\n",
       "      <td>0.003927</td>\n",
       "      <td>0.002620</td>\n",
       "      <td>0.002664</td>\n",
       "      <td>0.002662</td>\n",
       "      <td>0.001883</td>\n",
       "      <td>-0.000786</td>\n",
       "      <td>0.000000</td>\n",
       "      <td>0.003102</td>\n",
       "      <td>0.003918</td>\n",
       "      <td>...</td>\n",
       "      <td>0.003768</td>\n",
       "      <td>0.001961</td>\n",
       "      <td>0.004444</td>\n",
       "      <td>0.002299</td>\n",
       "      <td>0.004005</td>\n",
       "      <td>0.000000</td>\n",
       "      <td>0.007439</td>\n",
       "      <td>-0.054250</td>\n",
       "      <td>0.000900</td>\n",
       "      <td>0.000900</td>\n",
       "    </tr>\n",
       "    <tr>\n",
       "      <th>2</th>\n",
       "      <td>2010-01-06</td>\n",
       "      <td>0.003911</td>\n",
       "      <td>0.000000</td>\n",
       "      <td>0.000886</td>\n",
       "      <td>0.001770</td>\n",
       "      <td>0.001880</td>\n",
       "      <td>0.003931</td>\n",
       "      <td>0.000861</td>\n",
       "      <td>0.000000</td>\n",
       "      <td>0.002342</td>\n",
       "      <td>...</td>\n",
       "      <td>0.002346</td>\n",
       "      <td>0.000000</td>\n",
       "      <td>-0.000632</td>\n",
       "      <td>0.002294</td>\n",
       "      <td>0.000997</td>\n",
       "      <td>0.002846</td>\n",
       "      <td>0.003165</td>\n",
       "      <td>-0.034417</td>\n",
       "      <td>0.000000</td>\n",
       "      <td>0.000000</td>\n",
       "    </tr>\n",
       "    <tr>\n",
       "      <th>3</th>\n",
       "      <td>2010-01-07</td>\n",
       "      <td>-0.001299</td>\n",
       "      <td>0.000871</td>\n",
       "      <td>0.000885</td>\n",
       "      <td>0.000000</td>\n",
       "      <td>0.000000</td>\n",
       "      <td>-0.008614</td>\n",
       "      <td>0.003442</td>\n",
       "      <td>0.001237</td>\n",
       "      <td>0.006231</td>\n",
       "      <td>...</td>\n",
       "      <td>0.002341</td>\n",
       "      <td>0.000000</td>\n",
       "      <td>-0.001265</td>\n",
       "      <td>0.001144</td>\n",
       "      <td>0.000996</td>\n",
       "      <td>0.001428</td>\n",
       "      <td>0.006309</td>\n",
       "      <td>-0.063366</td>\n",
       "      <td>-0.000899</td>\n",
       "      <td>-0.000899</td>\n",
       "    </tr>\n",
       "    <tr>\n",
       "      <th>4</th>\n",
       "      <td>2010-01-08</td>\n",
       "      <td>0.006502</td>\n",
       "      <td>0.002611</td>\n",
       "      <td>0.004421</td>\n",
       "      <td>0.005300</td>\n",
       "      <td>0.005629</td>\n",
       "      <td>0.008689</td>\n",
       "      <td>0.004288</td>\n",
       "      <td>0.005559</td>\n",
       "      <td>0.003096</td>\n",
       "      <td>...</td>\n",
       "      <td>0.000934</td>\n",
       "      <td>0.000652</td>\n",
       "      <td>0.002533</td>\n",
       "      <td>0.003415</td>\n",
       "      <td>0.001990</td>\n",
       "      <td>0.004259</td>\n",
       "      <td>0.003135</td>\n",
       "      <td>-0.078224</td>\n",
       "      <td>0.000900</td>\n",
       "      <td>0.000900</td>\n",
       "    </tr>\n",
       "  </tbody>\n",
       "</table>\n",
       "<p>5 rows × 11274 columns</p>\n",
       "</div>"
      ],
      "text/plain": [
       "        date       105      2704      2706      2708      2724      2725  \\\n",
       "0 2010-01-04  0.024129  0.005268  0.010772  0.014401  0.018217  0.023312   \n",
       "1 2010-01-05  0.003927  0.002620  0.002664  0.002662  0.001883 -0.000786   \n",
       "2 2010-01-06  0.003911  0.000000  0.000886  0.001770  0.001880  0.003931   \n",
       "3 2010-01-07 -0.001299  0.000871  0.000885  0.000000  0.000000 -0.008614   \n",
       "4 2010-01-08  0.006502  0.002611  0.004421  0.005300  0.005629  0.008689   \n",
       "\n",
       "       2727      2729      2731  ...     87961     89331     89332     91557  \\\n",
       "0  0.021108  0.015113  0.017544  ...  0.017737  0.001309  0.001908  0.009282   \n",
       "1  0.000000  0.003102  0.003918  ...  0.003768  0.001961  0.004444  0.002299   \n",
       "2  0.000861  0.000000  0.002342  ...  0.002346  0.000000 -0.000632  0.002294   \n",
       "3  0.003442  0.001237  0.006231  ...  0.002341  0.000000 -0.001265  0.001144   \n",
       "4  0.004288  0.005559  0.003096  ...  0.000934  0.000652  0.002533  0.003415   \n",
       "\n",
       "      91558     91559     93598     93941     94443     94457  \n",
       "0  0.003001  0.015945  0.005342 -0.177083  0.000000  0.000000  \n",
       "1  0.004005  0.000000  0.007439 -0.054250  0.000900  0.000900  \n",
       "2  0.000997  0.002846  0.003165 -0.034417  0.000000  0.000000  \n",
       "3  0.000996  0.001428  0.006309 -0.063366 -0.000899 -0.000899  \n",
       "4  0.001990  0.004259  0.003135 -0.078224  0.000900  0.000900  \n",
       "\n",
       "[5 rows x 11274 columns]"
      ]
     },
     "execution_count": 12,
     "metadata": {},
     "output_type": "execute_result"
    }
   ],
   "source": [
    "returns['date'] = pd.to_datetime(returns['date'])\n",
    "returns.drop('date', axis=1).astype(float)\n",
    "returns.head()"
   ]
  },
  {
   "cell_type": "code",
   "execution_count": 13,
   "metadata": {},
   "outputs": [
    {
     "data": {
      "text/html": [
       "<div>\n",
       "<style scoped>\n",
       "    .dataframe tbody tr th:only-of-type {\n",
       "        vertical-align: middle;\n",
       "    }\n",
       "\n",
       "    .dataframe tbody tr th {\n",
       "        vertical-align: top;\n",
       "    }\n",
       "\n",
       "    .dataframe thead th {\n",
       "        text-align: right;\n",
       "    }\n",
       "</style>\n",
       "<table border=\"1\" class=\"dataframe\">\n",
       "  <thead>\n",
       "    <tr style=\"text-align: right;\">\n",
       "      <th></th>\n",
       "      <th>date</th>\n",
       "      <th>fundNo</th>\n",
       "      <th>r</th>\n",
       "    </tr>\n",
       "  </thead>\n",
       "  <tbody>\n",
       "    <tr>\n",
       "      <th>0</th>\n",
       "      <td>2010-01-04</td>\n",
       "      <td>105</td>\n",
       "      <td>0.024129</td>\n",
       "    </tr>\n",
       "    <tr>\n",
       "      <th>1</th>\n",
       "      <td>2010-01-05</td>\n",
       "      <td>105</td>\n",
       "      <td>0.003927</td>\n",
       "    </tr>\n",
       "    <tr>\n",
       "      <th>2</th>\n",
       "      <td>2010-01-06</td>\n",
       "      <td>105</td>\n",
       "      <td>0.003911</td>\n",
       "    </tr>\n",
       "    <tr>\n",
       "      <th>3</th>\n",
       "      <td>2010-01-07</td>\n",
       "      <td>105</td>\n",
       "      <td>-0.001299</td>\n",
       "    </tr>\n",
       "    <tr>\n",
       "      <th>4</th>\n",
       "      <td>2010-01-08</td>\n",
       "      <td>105</td>\n",
       "      <td>0.006502</td>\n",
       "    </tr>\n",
       "  </tbody>\n",
       "</table>\n",
       "</div>"
      ],
      "text/plain": [
       "        date  fundNo         r\n",
       "0 2010-01-04     105  0.024129\n",
       "1 2010-01-05     105  0.003927\n",
       "2 2010-01-06     105  0.003911\n",
       "3 2010-01-07     105 -0.001299\n",
       "4 2010-01-08     105  0.006502"
      ]
     },
     "execution_count": 13,
     "metadata": {},
     "output_type": "execute_result"
    }
   ],
   "source": [
    "# Transform it to long format: primary keys (date, fundNo), value is the daily return\n",
    "returns = pd.wide_to_long(returns, '', i='date', j='fundNo')\n",
    "returns.columns = ['r']\n",
    "returns = returns.reset_index()\n",
    "returns.head()"
   ]
  },
  {
   "cell_type": "markdown",
   "metadata": {},
   "source": [
    "# Morningstar data"
   ]
  },
  {
   "cell_type": "code",
   "execution_count": 10,
   "metadata": {},
   "outputs": [
    {
     "name": "stdout",
     "output_type": "stream",
     "text": [
      "Loading from /Users/glangetasq/Library/Mobile Documents/com~apple~CloudDocs/Columbia/Classes/Fall_20/DeepLearning/FundClusteringProject/DataSummer/Summary_Updated.csv...\n"
     ]
    },
    {
     "name": "stderr",
     "output_type": "stream",
     "text": [
      "/Users/glangetasq/Library/Mobile Documents/com~apple~CloudDocs/Columbia/Classes/Fall_20/DeepLearning/FundClusteringProject/Repo/env/lib/python3.9/site-packages/IPython/core/interactiveshell.py:3338: DtypeWarning: Columns (47,49,50) have mixed types.Specify dtype option on import or set low_memory=False.\n",
      "  if (await self.run_code(code, result,  async_=asy)):\n"
     ]
    }
   ],
   "source": [
    "db_name = 'fund_clustering'\n",
    "table_name = 'morning_star'\n",
    "path = Config.DATA_PATHS['morningstar']\n",
    "\n",
    "print(f\"Loading from {path}...\")\n",
    "reader.load_table(db_name, table_name, path)"
   ]
  },
  {
   "cell_type": "code",
   "execution_count": 11,
   "metadata": {},
   "outputs": [],
   "source": [
    "mrnstar = reader.get_dataframe(db_name, table_name)\n",
    "\n",
    "# Formatting using the dict in config\n",
    "cols_to_drop = []\n",
    "for colname in mrnstar:\n",
    "\n",
    "    formatting_function = MORNINGSTAR_FORMATTING.get(colname, None)\n",
    "\n",
    "    if formatting_function:\n",
    "        mrnstar[colname] = formatting_function(mrnstar[colname])\n",
    "    else:\n",
    "        cols_to_drop.append(colname)\n",
    "        \n",
    "        \n",
    "mrnstar = mrnstar.drop(cols_to_drop, axis=1)"
   ]
  },
  {
   "cell_type": "code",
   "execution_count": 12,
   "metadata": {},
   "outputs": [
    {
     "data": {
      "text/html": [
       "<div>\n",
       "<style scoped>\n",
       "    .dataframe tbody tr th:only-of-type {\n",
       "        vertical-align: middle;\n",
       "    }\n",
       "\n",
       "    .dataframe tbody tr th {\n",
       "        vertical-align: top;\n",
       "    }\n",
       "\n",
       "    .dataframe thead th {\n",
       "        text-align: right;\n",
       "    }\n",
       "</style>\n",
       "<table border=\"1\" class=\"dataframe\">\n",
       "  <thead>\n",
       "    <tr style=\"text-align: right;\">\n",
       "      <th></th>\n",
       "      <th>fundNo</th>\n",
       "      <th>date</th>\n",
       "      <th>per_com</th>\n",
       "      <th>per_pref</th>\n",
       "      <th>per_conv</th>\n",
       "      <th>per_corp</th>\n",
       "      <th>per_muni</th>\n",
       "      <th>per_govt</th>\n",
       "      <th>per_oth</th>\n",
       "      <th>per_cash</th>\n",
       "      <th>per_bond</th>\n",
       "      <th>per_abs</th>\n",
       "      <th>per_mbs</th>\n",
       "      <th>per_eq_oth</th>\n",
       "      <th>per_fi_oth</th>\n",
       "      <th>lipper_class_name</th>\n",
       "    </tr>\n",
       "  </thead>\n",
       "  <tbody>\n",
       "    <tr>\n",
       "      <th>0</th>\n",
       "      <td>105</td>\n",
       "      <td>2010-03-31</td>\n",
       "      <td>77.44</td>\n",
       "      <td>0.06</td>\n",
       "      <td>0.0</td>\n",
       "      <td>0.0</td>\n",
       "      <td>0.0</td>\n",
       "      <td>0.0</td>\n",
       "      <td>0.54</td>\n",
       "      <td>1.49</td>\n",
       "      <td>0.0</td>\n",
       "      <td>0.0</td>\n",
       "      <td>0.0</td>\n",
       "      <td>20.46</td>\n",
       "      <td>0.0</td>\n",
       "      <td>Global Multi-Cap Core</td>\n",
       "    </tr>\n",
       "    <tr>\n",
       "      <th>1</th>\n",
       "      <td>105</td>\n",
       "      <td>2010-06-30</td>\n",
       "      <td>78.48</td>\n",
       "      <td>0.06</td>\n",
       "      <td>0.0</td>\n",
       "      <td>0.0</td>\n",
       "      <td>0.0</td>\n",
       "      <td>0.0</td>\n",
       "      <td>0.03</td>\n",
       "      <td>2.12</td>\n",
       "      <td>0.0</td>\n",
       "      <td>0.0</td>\n",
       "      <td>0.0</td>\n",
       "      <td>19.30</td>\n",
       "      <td>0.0</td>\n",
       "      <td>Global Multi-Cap Core</td>\n",
       "    </tr>\n",
       "    <tr>\n",
       "      <th>2</th>\n",
       "      <td>105</td>\n",
       "      <td>2010-09-30</td>\n",
       "      <td>77.52</td>\n",
       "      <td>0.05</td>\n",
       "      <td>0.0</td>\n",
       "      <td>0.0</td>\n",
       "      <td>0.0</td>\n",
       "      <td>0.0</td>\n",
       "      <td>0.04</td>\n",
       "      <td>2.69</td>\n",
       "      <td>0.0</td>\n",
       "      <td>0.0</td>\n",
       "      <td>0.0</td>\n",
       "      <td>19.70</td>\n",
       "      <td>0.0</td>\n",
       "      <td>Global Multi-Cap Core</td>\n",
       "    </tr>\n",
       "    <tr>\n",
       "      <th>3</th>\n",
       "      <td>105</td>\n",
       "      <td>2010-12-31</td>\n",
       "      <td>77.47</td>\n",
       "      <td>0.08</td>\n",
       "      <td>0.0</td>\n",
       "      <td>0.0</td>\n",
       "      <td>0.0</td>\n",
       "      <td>0.0</td>\n",
       "      <td>0.04</td>\n",
       "      <td>1.19</td>\n",
       "      <td>0.0</td>\n",
       "      <td>0.0</td>\n",
       "      <td>0.0</td>\n",
       "      <td>21.22</td>\n",
       "      <td>0.0</td>\n",
       "      <td>Global Multi-Cap Core</td>\n",
       "    </tr>\n",
       "    <tr>\n",
       "      <th>4</th>\n",
       "      <td>105</td>\n",
       "      <td>2011-03-31</td>\n",
       "      <td>77.99</td>\n",
       "      <td>0.05</td>\n",
       "      <td>0.0</td>\n",
       "      <td>0.0</td>\n",
       "      <td>0.0</td>\n",
       "      <td>0.0</td>\n",
       "      <td>0.09</td>\n",
       "      <td>1.89</td>\n",
       "      <td>0.0</td>\n",
       "      <td>0.0</td>\n",
       "      <td>0.0</td>\n",
       "      <td>19.97</td>\n",
       "      <td>0.0</td>\n",
       "      <td>Global Multi-Cap Core</td>\n",
       "    </tr>\n",
       "  </tbody>\n",
       "</table>\n",
       "</div>"
      ],
      "text/plain": [
       "   fundNo       date  per_com  per_pref  per_conv  per_corp  per_muni  \\\n",
       "0     105 2010-03-31    77.44      0.06       0.0       0.0       0.0   \n",
       "1     105 2010-06-30    78.48      0.06       0.0       0.0       0.0   \n",
       "2     105 2010-09-30    77.52      0.05       0.0       0.0       0.0   \n",
       "3     105 2010-12-31    77.47      0.08       0.0       0.0       0.0   \n",
       "4     105 2011-03-31    77.99      0.05       0.0       0.0       0.0   \n",
       "\n",
       "   per_govt  per_oth  per_cash  per_bond  per_abs  per_mbs  per_eq_oth  \\\n",
       "0       0.0     0.54      1.49       0.0      0.0      0.0       20.46   \n",
       "1       0.0     0.03      2.12       0.0      0.0      0.0       19.30   \n",
       "2       0.0     0.04      2.69       0.0      0.0      0.0       19.70   \n",
       "3       0.0     0.04      1.19       0.0      0.0      0.0       21.22   \n",
       "4       0.0     0.09      1.89       0.0      0.0      0.0       19.97   \n",
       "\n",
       "   per_fi_oth      lipper_class_name  \n",
       "0         0.0  Global Multi-Cap Core  \n",
       "1         0.0  Global Multi-Cap Core  \n",
       "2         0.0  Global Multi-Cap Core  \n",
       "3         0.0  Global Multi-Cap Core  \n",
       "4         0.0  Global Multi-Cap Core  "
      ]
     },
     "execution_count": 12,
     "metadata": {},
     "output_type": "execute_result"
    }
   ],
   "source": [
    "mrnstar = mrnstar.rename(columns={'crsp_fundno':'fundNo', 'caldt':'date'})\n",
    "mrnstar.head()"
   ]
  },
  {
   "cell_type": "markdown",
   "metadata": {},
   "source": [
    "# Write dataframes to SQL"
   ]
  },
  {
   "cell_type": "code",
   "execution_count": 14,
   "metadata": {},
   "outputs": [],
   "source": [
    "writer = dh.get_data_writer(username=username, password=password, secrets_dir=secrets_dir)"
   ]
  },
  {
   "cell_type": "markdown",
   "metadata": {},
   "source": [
    "## Ticker table"
   ]
  },
  {
   "cell_type": "code",
   "execution_count": 15,
   "metadata": {},
   "outputs": [],
   "source": [
    "db_name = 'fund_clustering'\n",
    "table_name = 'ticker'\n",
    "\n",
    "writer.update_raw_data(db_name, table_name, ticker)"
   ]
  },
  {
   "cell_type": "markdown",
   "metadata": {},
   "source": [
    "## Returns table\n",
    "\n",
    "This takes some time to run."
   ]
  },
  {
   "cell_type": "code",
   "execution_count": null,
   "metadata": {},
   "outputs": [],
   "source": [
    "db_name = 'fund_clustering'\n",
    "table_name = 'returns'\n",
    "\n",
    "writer.update_raw_data(db_name, table_name, returns, chunk_size=100000)"
   ]
  },
  {
   "cell_type": "markdown",
   "metadata": {},
   "source": [
    "## Morningstar table\n",
    "\n",
    "This takes even longer to run."
   ]
  },
  {
   "cell_type": "code",
   "execution_count": null,
   "metadata": {},
   "outputs": [],
   "source": [
    "db_name = 'fund_clustering'\n",
    "table_name = 'morning_star'\n",
    "\n",
    "writer.update_raw_data(db_name, table_name, mrnstar, chunk_size=50000)"
   ]
  }
 ],
 "metadata": {
  "kernelspec": {
   "display_name": "env",
   "language": "python",
   "name": "env"
  },
  "language_info": {
   "codemirror_mode": {
    "name": "ipython",
    "version": 3
   },
   "file_extension": ".py",
   "mimetype": "text/x-python",
   "name": "python",
   "nbconvert_exporter": "python",
   "pygments_lexer": "ipython3",
   "version": "3.9.0"
  }
 },
 "nbformat": 4,
 "nbformat_minor": 4
}
