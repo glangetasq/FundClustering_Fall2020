{
 "cells": [
  {
   "cell_type": "markdown",
   "metadata": {},
   "source": [
    "# How to make new data for unit testing\n",
    "\n",
    "(Almost) everything is contained in the DataMaker class"
   ]
  },
  {
   "cell_type": "code",
   "execution_count": 5,
   "metadata": {},
   "outputs": [],
   "source": [
    "import DataHelper\n",
    "import pandas as pd\n",
    "import numpy as np"
   ]
  },
  {
   "cell_type": "markdown",
   "metadata": {},
   "source": [
    "There's three variables to create a new row:\n",
    "\n",
    "```python\n",
    "holding_asset_row = {'caldt':year, 'cash':100*pct, 'equity':100*pct, 'bond':100*pct, 'security':100*pct}\n",
    "daily_returns_ts = pd.Series(daily_returns_series, index=datetime_axis)\n",
    "fund_mrnstar_row = {'caldt':year, 'lipser_class_name':string}\n",
    "```\n",
    "\n",
    "Example:"
   ]
  },
  {
   "cell_type": "code",
   "execution_count": 8,
   "metadata": {},
   "outputs": [],
   "source": [
    "holding_asset_row = {'caldt':2020, 'cash':50, 'equity':25, 'bond':12.5, 'security':12.5}"
   ]
  },
  {
   "cell_type": "code",
   "execution_count": 9,
   "metadata": {},
   "outputs": [
    {
     "data": {
      "text/plain": [
       "2020-10-01    0.632268\n",
       "2020-10-02    0.805323\n",
       "2020-10-03    0.754230\n",
       "2020-10-04    0.836431\n",
       "2020-10-05    0.737519\n",
       "2020-10-06    0.317066\n",
       "2020-10-07    0.589445\n",
       "2020-10-08    0.425249\n",
       "2020-10-09    0.948570\n",
       "dtype: float64"
      ]
     },
     "execution_count": 9,
     "metadata": {},
     "output_type": "execute_result"
    }
   ],
   "source": [
    "daily_returns_ts = pd.Series(np.random.rand(9), index=pd.to_datetime([f\"2020-10-0{i}\" for i in range(1, 10)]))\n",
    "daily_returns_ts"
   ]
  },
  {
   "cell_type": "code",
   "execution_count": 10,
   "metadata": {},
   "outputs": [],
   "source": [
    "fund_mrnstar_row = {'caldt':2020, 'lipser_class_name':'No one cares'}"
   ]
  },
  {
   "cell_type": "code",
   "execution_count": 13,
   "metadata": {},
   "outputs": [],
   "source": [
    "holding_asset_row_2 = {'caldt':2020, 'cash':100, 'equity':0, 'bond':0, 'security':0}\n",
    "daily_returns_ts_2 = pd.Series(np.random.rand(9), index=pd.to_datetime([f\"2020-10-0{i}\" for i in range(1, 10)]))\n",
    "fund_mrnstar_row_2 = {'caldt':2020, 'lipser_class_name':'No one cares'}"
   ]
  },
  {
   "cell_type": "markdown",
   "metadata": {},
   "source": [
    "# There's 3 way to add fake data\n",
    "\n",
    "## 1. Add one at a time"
   ]
  },
  {
   "cell_type": "code",
   "execution_count": 15,
   "metadata": {},
   "outputs": [],
   "source": [
    "maker = DataHelper.get_data_maker()\n",
    "\n",
    "maker.add_fake_fund(holding_asset_row, daily_returns_ts, fund_mrnstar_row)\n",
    "maker.add_fake_fund(holding_asset_row_2, daily_returns_ts_2, fund_mrnstar_row_2);"
   ]
  },
  {
   "cell_type": "markdown",
   "metadata": {},
   "source": [
    "## 2. Bulk add by list of 3-tuples"
   ]
  },
  {
   "cell_type": "code",
   "execution_count": 16,
   "metadata": {},
   "outputs": [],
   "source": [
    "maker = DataHelper.get_data_maker()\n",
    "\n",
    "maker.bulkadd_fake_fund([\n",
    "    (holding_asset_row, daily_returns_ts, fund_mrnstar_row),\n",
    "    (holding_asset_row_2, daily_returns_ts_2, fund_mrnstar_row_2),\n",
    "])"
   ]
  },
  {
   "cell_type": "markdown",
   "metadata": {},
   "source": [
    "## 3. (Not important) Builder Design Pattern"
   ]
  },
  {
   "cell_type": "code",
   "execution_count": 19,
   "metadata": {},
   "outputs": [],
   "source": [
    "maker = DataHelper.get_data_maker()\n",
    "\n",
    "# maker.add_fake_fund return itself, so we can continue to use .add_fake_fund again and again.\n",
    "maker.add_fake_fund(holding_asset_row, daily_returns_ts, fund_mrnstar_row)\\\n",
    "    .add_fake_fund(holding_asset_row_2, daily_returns_ts_2, fund_mrnstar_row_2);"
   ]
  },
  {
   "cell_type": "markdown",
   "metadata": {},
   "source": [
    "# When every fake funds has been added, convert to actual DataCache"
   ]
  },
  {
   "cell_type": "code",
   "execution_count": 21,
   "metadata": {},
   "outputs": [],
   "source": [
    "preprocessor = DataHelper.get_data_preprocessor()\n",
    "clustering_year = 2020\n",
    "cache = maker.convert_to_data_cache(preprocessor, clustering_year)"
   ]
  },
  {
   "cell_type": "markdown",
   "metadata": {},
   "source": [
    "# Expected results"
   ]
  },
  {
   "cell_type": "code",
   "execution_count": 22,
   "metadata": {},
   "outputs": [
    {
     "data": {
      "text/html": [
       "<div>\n",
       "<style scoped>\n",
       "    .dataframe tbody tr th:only-of-type {\n",
       "        vertical-align: middle;\n",
       "    }\n",
       "\n",
       "    .dataframe tbody tr th {\n",
       "        vertical-align: top;\n",
       "    }\n",
       "\n",
       "    .dataframe thead th {\n",
       "        text-align: right;\n",
       "    }\n",
       "</style>\n",
       "<table border=\"1\" class=\"dataframe\">\n",
       "  <thead>\n",
       "    <tr style=\"text-align: right;\">\n",
       "      <th></th>\n",
       "      <th>0</th>\n",
       "      <th>1</th>\n",
       "    </tr>\n",
       "  </thead>\n",
       "  <tbody>\n",
       "    <tr>\n",
       "      <td>2020-10-01</td>\n",
       "      <td>0.632268</td>\n",
       "      <td>0.967424</td>\n",
       "    </tr>\n",
       "    <tr>\n",
       "      <td>2020-10-02</td>\n",
       "      <td>0.805323</td>\n",
       "      <td>0.178519</td>\n",
       "    </tr>\n",
       "    <tr>\n",
       "      <td>2020-10-03</td>\n",
       "      <td>0.754230</td>\n",
       "      <td>0.583710</td>\n",
       "    </tr>\n",
       "    <tr>\n",
       "      <td>2020-10-04</td>\n",
       "      <td>0.836431</td>\n",
       "      <td>0.903183</td>\n",
       "    </tr>\n",
       "    <tr>\n",
       "      <td>2020-10-05</td>\n",
       "      <td>0.737519</td>\n",
       "      <td>0.841046</td>\n",
       "    </tr>\n",
       "    <tr>\n",
       "      <td>2020-10-06</td>\n",
       "      <td>0.317066</td>\n",
       "      <td>0.202601</td>\n",
       "    </tr>\n",
       "    <tr>\n",
       "      <td>2020-10-07</td>\n",
       "      <td>0.589445</td>\n",
       "      <td>0.786422</td>\n",
       "    </tr>\n",
       "    <tr>\n",
       "      <td>2020-10-08</td>\n",
       "      <td>0.425249</td>\n",
       "      <td>0.164523</td>\n",
       "    </tr>\n",
       "    <tr>\n",
       "      <td>2020-10-09</td>\n",
       "      <td>0.948570</td>\n",
       "      <td>0.958079</td>\n",
       "    </tr>\n",
       "  </tbody>\n",
       "</table>\n",
       "</div>"
      ],
      "text/plain": [
       "                   0         1\n",
       "2020-10-01  0.632268  0.967424\n",
       "2020-10-02  0.805323  0.178519\n",
       "2020-10-03  0.754230  0.583710\n",
       "2020-10-04  0.836431  0.903183\n",
       "2020-10-05  0.737519  0.841046\n",
       "2020-10-06  0.317066  0.202601\n",
       "2020-10-07  0.589445  0.786422\n",
       "2020-10-08  0.425249  0.164523\n",
       "2020-10-09  0.948570  0.958079"
      ]
     },
     "execution_count": 22,
     "metadata": {},
     "output_type": "execute_result"
    }
   ],
   "source": [
    "cache.returns"
   ]
  },
  {
   "cell_type": "code",
   "execution_count": 23,
   "metadata": {},
   "outputs": [
    {
     "data": {
      "text/html": [
       "<div>\n",
       "<style scoped>\n",
       "    .dataframe tbody tr th:only-of-type {\n",
       "        vertical-align: middle;\n",
       "    }\n",
       "\n",
       "    .dataframe tbody tr th {\n",
       "        vertical-align: top;\n",
       "    }\n",
       "\n",
       "    .dataframe thead th {\n",
       "        text-align: right;\n",
       "    }\n",
       "</style>\n",
       "<table border=\"1\" class=\"dataframe\">\n",
       "  <thead>\n",
       "    <tr style=\"text-align: right;\">\n",
       "      <th></th>\n",
       "      <th>0</th>\n",
       "      <th>1</th>\n",
       "    </tr>\n",
       "  </thead>\n",
       "  <tbody>\n",
       "    <tr>\n",
       "      <td>2020-10-01</td>\n",
       "      <td>1.632268</td>\n",
       "      <td>1.967424</td>\n",
       "    </tr>\n",
       "    <tr>\n",
       "      <td>2020-10-02</td>\n",
       "      <td>2.946772</td>\n",
       "      <td>2.318647</td>\n",
       "    </tr>\n",
       "    <tr>\n",
       "      <td>2020-10-03</td>\n",
       "      <td>5.169315</td>\n",
       "      <td>3.672064</td>\n",
       "    </tr>\n",
       "    <tr>\n",
       "      <td>2020-10-04</td>\n",
       "      <td>9.493091</td>\n",
       "      <td>6.988610</td>\n",
       "    </tr>\n",
       "    <tr>\n",
       "      <td>2020-10-05</td>\n",
       "      <td>16.494422</td>\n",
       "      <td>12.866349</td>\n",
       "    </tr>\n",
       "    <tr>\n",
       "      <td>2020-10-06</td>\n",
       "      <td>21.724237</td>\n",
       "      <td>15.473083</td>\n",
       "    </tr>\n",
       "    <tr>\n",
       "      <td>2020-10-07</td>\n",
       "      <td>34.529482</td>\n",
       "      <td>27.641462</td>\n",
       "    </tr>\n",
       "    <tr>\n",
       "      <td>2020-10-08</td>\n",
       "      <td>49.213101</td>\n",
       "      <td>32.189118</td>\n",
       "    </tr>\n",
       "    <tr>\n",
       "      <td>2020-10-09</td>\n",
       "      <td>95.895189</td>\n",
       "      <td>63.028839</td>\n",
       "    </tr>\n",
       "  </tbody>\n",
       "</table>\n",
       "</div>"
      ],
      "text/plain": [
       "                    0          1\n",
       "2020-10-01   1.632268   1.967424\n",
       "2020-10-02   2.946772   2.318647\n",
       "2020-10-03   5.169315   3.672064\n",
       "2020-10-04   9.493091   6.988610\n",
       "2020-10-05  16.494422  12.866349\n",
       "2020-10-06  21.724237  15.473083\n",
       "2020-10-07  34.529482  27.641462\n",
       "2020-10-08  49.213101  32.189118\n",
       "2020-10-09  95.895189  63.028839"
      ]
     },
     "execution_count": 23,
     "metadata": {},
     "output_type": "execute_result"
    }
   ],
   "source": [
    "cache.cumul_returns"
   ]
  },
  {
   "cell_type": "code",
   "execution_count": 24,
   "metadata": {},
   "outputs": [
    {
     "data": {
      "text/html": [
       "<div>\n",
       "<style scoped>\n",
       "    .dataframe tbody tr th:only-of-type {\n",
       "        vertical-align: middle;\n",
       "    }\n",
       "\n",
       "    .dataframe tbody tr th {\n",
       "        vertical-align: top;\n",
       "    }\n",
       "\n",
       "    .dataframe thead th {\n",
       "        text-align: right;\n",
       "    }\n",
       "</style>\n",
       "<table border=\"1\" class=\"dataframe\">\n",
       "  <thead>\n",
       "    <tr style=\"text-align: right;\">\n",
       "      <th></th>\n",
       "      <th>crsp_fundno</th>\n",
       "      <th>caldt</th>\n",
       "      <th>cash</th>\n",
       "      <th>equity</th>\n",
       "      <th>bond</th>\n",
       "      <th>security</th>\n",
       "    </tr>\n",
       "  </thead>\n",
       "  <tbody>\n",
       "    <tr>\n",
       "      <td>0</td>\n",
       "      <td>0</td>\n",
       "      <td>2020-12-31</td>\n",
       "      <td>50</td>\n",
       "      <td>25</td>\n",
       "      <td>12.5</td>\n",
       "      <td>12.5</td>\n",
       "    </tr>\n",
       "    <tr>\n",
       "      <td>1</td>\n",
       "      <td>1</td>\n",
       "      <td>2020-12-31</td>\n",
       "      <td>100</td>\n",
       "      <td>0</td>\n",
       "      <td>0.0</td>\n",
       "      <td>0.0</td>\n",
       "    </tr>\n",
       "  </tbody>\n",
       "</table>\n",
       "</div>"
      ],
      "text/plain": [
       "  crsp_fundno      caldt cash equity  bond  security\n",
       "0           0 2020-12-31   50     25  12.5      12.5\n",
       "1           1 2020-12-31  100      0   0.0       0.0"
      ]
     },
     "execution_count": 24,
     "metadata": {},
     "output_type": "execute_result"
    }
   ],
   "source": [
    "cache.holding_asset"
   ]
  },
  {
   "cell_type": "code",
   "execution_count": 25,
   "metadata": {},
   "outputs": [
    {
     "data": {
      "text/plain": [
       "['cash', 'equity', 'bond', 'security']"
      ]
     },
     "execution_count": 25,
     "metadata": {},
     "output_type": "execute_result"
    }
   ],
   "source": [
    "cache.asset_type"
   ]
  },
  {
   "cell_type": "code",
   "execution_count": 26,
   "metadata": {},
   "outputs": [
    {
     "data": {
      "text/html": [
       "<div>\n",
       "<style scoped>\n",
       "    .dataframe tbody tr th:only-of-type {\n",
       "        vertical-align: middle;\n",
       "    }\n",
       "\n",
       "    .dataframe tbody tr th {\n",
       "        vertical-align: top;\n",
       "    }\n",
       "\n",
       "    .dataframe thead th {\n",
       "        text-align: right;\n",
       "    }\n",
       "</style>\n",
       "<table border=\"1\" class=\"dataframe\">\n",
       "  <thead>\n",
       "    <tr style=\"text-align: right;\">\n",
       "      <th></th>\n",
       "      <th>crsp_fundno</th>\n",
       "      <th>caldt</th>\n",
       "      <th>lipper_class_name</th>\n",
       "      <th>lipser_class_name</th>\n",
       "    </tr>\n",
       "  </thead>\n",
       "  <tbody>\n",
       "    <tr>\n",
       "      <td>0</td>\n",
       "      <td>0</td>\n",
       "      <td>2020-12-31</td>\n",
       "      <td>NaN</td>\n",
       "      <td>No one cares</td>\n",
       "    </tr>\n",
       "    <tr>\n",
       "      <td>1</td>\n",
       "      <td>1</td>\n",
       "      <td>2020-12-31</td>\n",
       "      <td>NaN</td>\n",
       "      <td>No one cares</td>\n",
       "    </tr>\n",
       "  </tbody>\n",
       "</table>\n",
       "</div>"
      ],
      "text/plain": [
       "  crsp_fundno      caldt lipper_class_name lipser_class_name\n",
       "0           0 2020-12-31               NaN      No one cares\n",
       "1           1 2020-12-31               NaN      No one cares"
      ]
     },
     "execution_count": 26,
     "metadata": {},
     "output_type": "execute_result"
    }
   ],
   "source": [
    "cache.fund_mrnstar"
   ]
  },
  {
   "cell_type": "code",
   "execution_count": 27,
   "metadata": {},
   "outputs": [
    {
     "data": {
      "text/plain": [
       "{0: 0, 1: 1}"
      ]
     },
     "execution_count": 27,
     "metadata": {},
     "output_type": "execute_result"
    }
   ],
   "source": [
    "cache.fundno_ticker"
   ]
  },
  {
   "cell_type": "code",
   "execution_count": null,
   "metadata": {},
   "outputs": [],
   "source": []
  }
 ],
 "metadata": {
  "kernelspec": {
   "display_name": "Python 3",
   "language": "python",
   "name": "python3"
  },
  "language_info": {
   "codemirror_mode": {
    "name": "ipython",
    "version": 3
   },
   "file_extension": ".py",
   "mimetype": "text/x-python",
   "name": "python",
   "nbconvert_exporter": "python",
   "pygments_lexer": "ipython3",
   "version": "3.7.4"
  }
 },
 "nbformat": 4,
 "nbformat_minor": 2
}
